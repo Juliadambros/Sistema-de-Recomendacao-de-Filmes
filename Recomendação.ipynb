{
  "cells": [
    {
      "cell_type": "markdown",
      "metadata": {
        "id": "view-in-github",
        "colab_type": "text"
      },
      "source": [
        "<a href=\"https://colab.research.google.com/github/Juliadambros/Sistema-de-Recomendacao-de-Filmes/blob/main/Recomenda%C3%A7%C3%A3o.ipynb\" target=\"_parent\"><img src=\"https://colab.research.google.com/assets/colab-badge.svg\" alt=\"Open In Colab\"/></a>"
      ]
    },
    {
      "cell_type": "markdown",
      "metadata": {
        "id": "f48d869d"
      },
      "source": [
        "# Sistema de Recomendação com SVD, SVD Otimizado\n",
        "Este notebook implementa um sistema de recomendação baseado em **filtragem colaborativa**, utilizando o algoritmo **SVD** e **NFM** da biblioteca `Surprise`"
      ]
    },
    {
      "cell_type": "markdown",
      "metadata": {
        "id": "f0b59259"
      },
      "source": [
        "## Importação das Bibliotecas"
      ]
    },
    {
      "cell_type": "code",
      "execution_count": 2,
      "metadata": {
        "id": "b0497fb7",
        "colab": {
          "base_uri": "https://localhost:8080/"
        },
        "outputId": "439b8a26-b712-4f97-aa54-f787fbc62f78"
      },
      "outputs": [
        {
          "output_type": "stream",
          "name": "stdout",
          "text": [
            "Requirement already satisfied: numpy==1.24.4 in /usr/local/lib/python3.11/dist-packages (1.24.4)\n",
            "\u001b[33mWARNING: Skipping scikit-surprise as it is not installed.\u001b[0m\u001b[33m\n",
            "\u001b[0mCollecting scikit-surprise\n",
            "  Downloading scikit_surprise-1.1.4.tar.gz (154 kB)\n",
            "\u001b[2K     \u001b[90m━━━━━━━━━━━━━━━━━━━━━━━━━━━━━━━━━━━━━━━\u001b[0m \u001b[32m154.4/154.4 kB\u001b[0m \u001b[31m3.9 MB/s\u001b[0m eta \u001b[36m0:00:00\u001b[0m\n",
            "\u001b[?25h  Installing build dependencies ... \u001b[?25l\u001b[?25hdone\n",
            "  Getting requirements to build wheel ... \u001b[?25l\u001b[?25hdone\n",
            "  Preparing metadata (pyproject.toml) ... \u001b[?25l\u001b[?25hdone\n",
            "Requirement already satisfied: joblib>=1.2.0 in /usr/local/lib/python3.11/dist-packages (from scikit-surprise) (1.5.0)\n",
            "Requirement already satisfied: numpy>=1.19.5 in /usr/local/lib/python3.11/dist-packages (from scikit-surprise) (1.24.4)\n",
            "Requirement already satisfied: scipy>=1.6.0 in /usr/local/lib/python3.11/dist-packages (from scikit-surprise) (1.15.3)\n",
            "Building wheels for collected packages: scikit-surprise\n",
            "  Building wheel for scikit-surprise (pyproject.toml) ... \u001b[?25l\u001b[?25hdone\n",
            "  Created wheel for scikit-surprise: filename=scikit_surprise-1.1.4-cp311-cp311-linux_x86_64.whl size=2463297 sha256=afcb5355e390750f166d24c11bdd74ac03f18c02de0c3f67b34c4db88425387a\n",
            "  Stored in directory: /root/.cache/pip/wheels/2a/8f/6e/7e2899163e2d85d8266daab4aa1cdabec7a6c56f83c015b5af\n",
            "Successfully built scikit-surprise\n",
            "Installing collected packages: scikit-surprise\n",
            "Successfully installed scikit-surprise-1.1.4\n"
          ]
        }
      ],
      "source": [
        "!pip install numpy==1.24.4\n",
        "!pip uninstall -y scikit-surprise\n",
        "!pip install scikit-surprise\n",
        "\n",
        "from surprise import Dataset, Reader, SVD, NMF\n",
        "from surprise.model_selection import train_test_split\n",
        "from surprise.accuracy import rmse, mae, mse\n",
        "import pandas as pd\n",
        "import numpy as np\n",
        "import scipy.sparse as sparse\n",
        "import matplotlib.pyplot as plt\n",
        "from surprise.model_selection import GridSearchCV\n",
        "\n"
      ]
    },
    {
      "cell_type": "markdown",
      "metadata": {
        "id": "8de294a2"
      },
      "source": [
        "##  Carregar o Dataset\n",
        "O dataset deve conter pelo menos as colunas `userId`, `movieId` e `rating`."
      ]
    },
    {
      "cell_type": "code",
      "execution_count": 3,
      "metadata": {
        "colab": {
          "base_uri": "https://localhost:8080/",
          "height": 206
        },
        "id": "b2b55b84",
        "outputId": "c8a9f150-13c0-4df5-cc1a-d53732d6baf9"
      },
      "outputs": [
        {
          "output_type": "execute_result",
          "data": {
            "text/plain": [
              "   userId  itemId  rating  timestamp\n",
              "0     196     242       3  881250949\n",
              "1     186     302       3  891717742\n",
              "2      22     377       1  878887116\n",
              "3     244      51       2  880606923\n",
              "4     166     346       1  886397596"
            ],
            "text/html": [
              "\n",
              "  <div id=\"df-3231a9ed-5733-404a-bc18-80ee0eae8f10\" class=\"colab-df-container\">\n",
              "    <div>\n",
              "<style scoped>\n",
              "    .dataframe tbody tr th:only-of-type {\n",
              "        vertical-align: middle;\n",
              "    }\n",
              "\n",
              "    .dataframe tbody tr th {\n",
              "        vertical-align: top;\n",
              "    }\n",
              "\n",
              "    .dataframe thead th {\n",
              "        text-align: right;\n",
              "    }\n",
              "</style>\n",
              "<table border=\"1\" class=\"dataframe\">\n",
              "  <thead>\n",
              "    <tr style=\"text-align: right;\">\n",
              "      <th></th>\n",
              "      <th>userId</th>\n",
              "      <th>itemId</th>\n",
              "      <th>rating</th>\n",
              "      <th>timestamp</th>\n",
              "    </tr>\n",
              "  </thead>\n",
              "  <tbody>\n",
              "    <tr>\n",
              "      <th>0</th>\n",
              "      <td>196</td>\n",
              "      <td>242</td>\n",
              "      <td>3</td>\n",
              "      <td>881250949</td>\n",
              "    </tr>\n",
              "    <tr>\n",
              "      <th>1</th>\n",
              "      <td>186</td>\n",
              "      <td>302</td>\n",
              "      <td>3</td>\n",
              "      <td>891717742</td>\n",
              "    </tr>\n",
              "    <tr>\n",
              "      <th>2</th>\n",
              "      <td>22</td>\n",
              "      <td>377</td>\n",
              "      <td>1</td>\n",
              "      <td>878887116</td>\n",
              "    </tr>\n",
              "    <tr>\n",
              "      <th>3</th>\n",
              "      <td>244</td>\n",
              "      <td>51</td>\n",
              "      <td>2</td>\n",
              "      <td>880606923</td>\n",
              "    </tr>\n",
              "    <tr>\n",
              "      <th>4</th>\n",
              "      <td>166</td>\n",
              "      <td>346</td>\n",
              "      <td>1</td>\n",
              "      <td>886397596</td>\n",
              "    </tr>\n",
              "  </tbody>\n",
              "</table>\n",
              "</div>\n",
              "    <div class=\"colab-df-buttons\">\n",
              "\n",
              "  <div class=\"colab-df-container\">\n",
              "    <button class=\"colab-df-convert\" onclick=\"convertToInteractive('df-3231a9ed-5733-404a-bc18-80ee0eae8f10')\"\n",
              "            title=\"Convert this dataframe to an interactive table.\"\n",
              "            style=\"display:none;\">\n",
              "\n",
              "  <svg xmlns=\"http://www.w3.org/2000/svg\" height=\"24px\" viewBox=\"0 -960 960 960\">\n",
              "    <path d=\"M120-120v-720h720v720H120Zm60-500h600v-160H180v160Zm220 220h160v-160H400v160Zm0 220h160v-160H400v160ZM180-400h160v-160H180v160Zm440 0h160v-160H620v160ZM180-180h160v-160H180v160Zm440 0h160v-160H620v160Z\"/>\n",
              "  </svg>\n",
              "    </button>\n",
              "\n",
              "  <style>\n",
              "    .colab-df-container {\n",
              "      display:flex;\n",
              "      gap: 12px;\n",
              "    }\n",
              "\n",
              "    .colab-df-convert {\n",
              "      background-color: #E8F0FE;\n",
              "      border: none;\n",
              "      border-radius: 50%;\n",
              "      cursor: pointer;\n",
              "      display: none;\n",
              "      fill: #1967D2;\n",
              "      height: 32px;\n",
              "      padding: 0 0 0 0;\n",
              "      width: 32px;\n",
              "    }\n",
              "\n",
              "    .colab-df-convert:hover {\n",
              "      background-color: #E2EBFA;\n",
              "      box-shadow: 0px 1px 2px rgba(60, 64, 67, 0.3), 0px 1px 3px 1px rgba(60, 64, 67, 0.15);\n",
              "      fill: #174EA6;\n",
              "    }\n",
              "\n",
              "    .colab-df-buttons div {\n",
              "      margin-bottom: 4px;\n",
              "    }\n",
              "\n",
              "    [theme=dark] .colab-df-convert {\n",
              "      background-color: #3B4455;\n",
              "      fill: #D2E3FC;\n",
              "    }\n",
              "\n",
              "    [theme=dark] .colab-df-convert:hover {\n",
              "      background-color: #434B5C;\n",
              "      box-shadow: 0px 1px 3px 1px rgba(0, 0, 0, 0.15);\n",
              "      filter: drop-shadow(0px 1px 2px rgba(0, 0, 0, 0.3));\n",
              "      fill: #FFFFFF;\n",
              "    }\n",
              "  </style>\n",
              "\n",
              "    <script>\n",
              "      const buttonEl =\n",
              "        document.querySelector('#df-3231a9ed-5733-404a-bc18-80ee0eae8f10 button.colab-df-convert');\n",
              "      buttonEl.style.display =\n",
              "        google.colab.kernel.accessAllowed ? 'block' : 'none';\n",
              "\n",
              "      async function convertToInteractive(key) {\n",
              "        const element = document.querySelector('#df-3231a9ed-5733-404a-bc18-80ee0eae8f10');\n",
              "        const dataTable =\n",
              "          await google.colab.kernel.invokeFunction('convertToInteractive',\n",
              "                                                    [key], {});\n",
              "        if (!dataTable) return;\n",
              "\n",
              "        const docLinkHtml = 'Like what you see? Visit the ' +\n",
              "          '<a target=\"_blank\" href=https://colab.research.google.com/notebooks/data_table.ipynb>data table notebook</a>'\n",
              "          + ' to learn more about interactive tables.';\n",
              "        element.innerHTML = '';\n",
              "        dataTable['output_type'] = 'display_data';\n",
              "        await google.colab.output.renderOutput(dataTable, element);\n",
              "        const docLink = document.createElement('div');\n",
              "        docLink.innerHTML = docLinkHtml;\n",
              "        element.appendChild(docLink);\n",
              "      }\n",
              "    </script>\n",
              "  </div>\n",
              "\n",
              "\n",
              "    <div id=\"df-4ddf6d4d-1606-4feb-b651-12479ec1fec3\">\n",
              "      <button class=\"colab-df-quickchart\" onclick=\"quickchart('df-4ddf6d4d-1606-4feb-b651-12479ec1fec3')\"\n",
              "                title=\"Suggest charts\"\n",
              "                style=\"display:none;\">\n",
              "\n",
              "<svg xmlns=\"http://www.w3.org/2000/svg\" height=\"24px\"viewBox=\"0 0 24 24\"\n",
              "     width=\"24px\">\n",
              "    <g>\n",
              "        <path d=\"M19 3H5c-1.1 0-2 .9-2 2v14c0 1.1.9 2 2 2h14c1.1 0 2-.9 2-2V5c0-1.1-.9-2-2-2zM9 17H7v-7h2v7zm4 0h-2V7h2v10zm4 0h-2v-4h2v4z\"/>\n",
              "    </g>\n",
              "</svg>\n",
              "      </button>\n",
              "\n",
              "<style>\n",
              "  .colab-df-quickchart {\n",
              "      --bg-color: #E8F0FE;\n",
              "      --fill-color: #1967D2;\n",
              "      --hover-bg-color: #E2EBFA;\n",
              "      --hover-fill-color: #174EA6;\n",
              "      --disabled-fill-color: #AAA;\n",
              "      --disabled-bg-color: #DDD;\n",
              "  }\n",
              "\n",
              "  [theme=dark] .colab-df-quickchart {\n",
              "      --bg-color: #3B4455;\n",
              "      --fill-color: #D2E3FC;\n",
              "      --hover-bg-color: #434B5C;\n",
              "      --hover-fill-color: #FFFFFF;\n",
              "      --disabled-bg-color: #3B4455;\n",
              "      --disabled-fill-color: #666;\n",
              "  }\n",
              "\n",
              "  .colab-df-quickchart {\n",
              "    background-color: var(--bg-color);\n",
              "    border: none;\n",
              "    border-radius: 50%;\n",
              "    cursor: pointer;\n",
              "    display: none;\n",
              "    fill: var(--fill-color);\n",
              "    height: 32px;\n",
              "    padding: 0;\n",
              "    width: 32px;\n",
              "  }\n",
              "\n",
              "  .colab-df-quickchart:hover {\n",
              "    background-color: var(--hover-bg-color);\n",
              "    box-shadow: 0 1px 2px rgba(60, 64, 67, 0.3), 0 1px 3px 1px rgba(60, 64, 67, 0.15);\n",
              "    fill: var(--button-hover-fill-color);\n",
              "  }\n",
              "\n",
              "  .colab-df-quickchart-complete:disabled,\n",
              "  .colab-df-quickchart-complete:disabled:hover {\n",
              "    background-color: var(--disabled-bg-color);\n",
              "    fill: var(--disabled-fill-color);\n",
              "    box-shadow: none;\n",
              "  }\n",
              "\n",
              "  .colab-df-spinner {\n",
              "    border: 2px solid var(--fill-color);\n",
              "    border-color: transparent;\n",
              "    border-bottom-color: var(--fill-color);\n",
              "    animation:\n",
              "      spin 1s steps(1) infinite;\n",
              "  }\n",
              "\n",
              "  @keyframes spin {\n",
              "    0% {\n",
              "      border-color: transparent;\n",
              "      border-bottom-color: var(--fill-color);\n",
              "      border-left-color: var(--fill-color);\n",
              "    }\n",
              "    20% {\n",
              "      border-color: transparent;\n",
              "      border-left-color: var(--fill-color);\n",
              "      border-top-color: var(--fill-color);\n",
              "    }\n",
              "    30% {\n",
              "      border-color: transparent;\n",
              "      border-left-color: var(--fill-color);\n",
              "      border-top-color: var(--fill-color);\n",
              "      border-right-color: var(--fill-color);\n",
              "    }\n",
              "    40% {\n",
              "      border-color: transparent;\n",
              "      border-right-color: var(--fill-color);\n",
              "      border-top-color: var(--fill-color);\n",
              "    }\n",
              "    60% {\n",
              "      border-color: transparent;\n",
              "      border-right-color: var(--fill-color);\n",
              "    }\n",
              "    80% {\n",
              "      border-color: transparent;\n",
              "      border-right-color: var(--fill-color);\n",
              "      border-bottom-color: var(--fill-color);\n",
              "    }\n",
              "    90% {\n",
              "      border-color: transparent;\n",
              "      border-bottom-color: var(--fill-color);\n",
              "    }\n",
              "  }\n",
              "</style>\n",
              "\n",
              "      <script>\n",
              "        async function quickchart(key) {\n",
              "          const quickchartButtonEl =\n",
              "            document.querySelector('#' + key + ' button');\n",
              "          quickchartButtonEl.disabled = true;  // To prevent multiple clicks.\n",
              "          quickchartButtonEl.classList.add('colab-df-spinner');\n",
              "          try {\n",
              "            const charts = await google.colab.kernel.invokeFunction(\n",
              "                'suggestCharts', [key], {});\n",
              "          } catch (error) {\n",
              "            console.error('Error during call to suggestCharts:', error);\n",
              "          }\n",
              "          quickchartButtonEl.classList.remove('colab-df-spinner');\n",
              "          quickchartButtonEl.classList.add('colab-df-quickchart-complete');\n",
              "        }\n",
              "        (() => {\n",
              "          let quickchartButtonEl =\n",
              "            document.querySelector('#df-4ddf6d4d-1606-4feb-b651-12479ec1fec3 button');\n",
              "          quickchartButtonEl.style.display =\n",
              "            google.colab.kernel.accessAllowed ? 'block' : 'none';\n",
              "        })();\n",
              "      </script>\n",
              "    </div>\n",
              "\n",
              "    </div>\n",
              "  </div>\n"
            ],
            "application/vnd.google.colaboratory.intrinsic+json": {
              "type": "dataframe",
              "variable_name": "df",
              "summary": "{\n  \"name\": \"df\",\n  \"rows\": 100000,\n  \"fields\": [\n    {\n      \"column\": \"userId\",\n      \"properties\": {\n        \"dtype\": \"number\",\n        \"std\": 266,\n        \"min\": 1,\n        \"max\": 943,\n        \"num_unique_values\": 943,\n        \"samples\": [\n          262,\n          136,\n          821\n        ],\n        \"semantic_type\": \"\",\n        \"description\": \"\"\n      }\n    },\n    {\n      \"column\": \"itemId\",\n      \"properties\": {\n        \"dtype\": \"number\",\n        \"std\": 330,\n        \"min\": 1,\n        \"max\": 1682,\n        \"num_unique_values\": 1682,\n        \"samples\": [\n          1557,\n          808,\n          1618\n        ],\n        \"semantic_type\": \"\",\n        \"description\": \"\"\n      }\n    },\n    {\n      \"column\": \"rating\",\n      \"properties\": {\n        \"dtype\": \"number\",\n        \"std\": 1,\n        \"min\": 1,\n        \"max\": 5,\n        \"num_unique_values\": 5,\n        \"samples\": [\n          1,\n          5,\n          2\n        ],\n        \"semantic_type\": \"\",\n        \"description\": \"\"\n      }\n    },\n    {\n      \"column\": \"timestamp\",\n      \"properties\": {\n        \"dtype\": \"number\",\n        \"std\": 5343856,\n        \"min\": 874724710,\n        \"max\": 893286638,\n        \"num_unique_values\": 49282,\n        \"samples\": [\n          889728713,\n          888443306,\n          880605158\n        ],\n        \"semantic_type\": \"\",\n        \"description\": \"\"\n      }\n    }\n  ]\n}"
            }
          },
          "metadata": {},
          "execution_count": 3
        }
      ],
      "source": [
        "url = \"http://files.grouplens.org/datasets/movielens/ml-100k/u.data\"\n",
        "df = pd.read_csv(url, sep='\\t', names=['userId', 'itemId', 'rating', 'timestamp'])\n",
        "df.head()"
      ]
    },
    {
      "cell_type": "markdown",
      "source": [
        "Carregando os dados dos filmes (para mostrar os nomes depois)"
      ],
      "metadata": {
        "id": "LB9MpgfSDclK"
      }
    },
    {
      "cell_type": "code",
      "source": [
        "movie_url = \"http://files.grouplens.org/datasets/movielens/ml-100k/u.item\"\n",
        "movie_columns = ['itemId', 'title', 'release_date', 'video_release_date', 'IMDb_URL'] + [f'genre_{i}' for i in range(19)]\n",
        "movies_df = pd.read_csv(movie_url, sep='|', names=movie_columns, encoding='latin-1')\n",
        "\n",
        "# Criando o dicionário de ID -> título do filme\n",
        "movie_titles = dict(zip(movies_df['itemId'], movies_df['title']))"
      ],
      "metadata": {
        "id": "fZDkjo-6DfQA"
      },
      "execution_count": 4,
      "outputs": []
    },
    {
      "cell_type": "markdown",
      "metadata": {
        "id": "e473a760"
      },
      "source": [
        "## Preparação dos Dados\n",
        "Define o intervalo de notas e carrega os dados no formato da biblioteca `Surprise`."
      ]
    },
    {
      "cell_type": "code",
      "execution_count": 5,
      "metadata": {
        "id": "60c16eaf"
      },
      "outputs": [],
      "source": [
        "reader = Reader(rating_scale=(1, 5))\n",
        "data = Dataset.load_from_df(df[['userId', 'itemId', 'rating']], reader)"
      ]
    },
    {
      "cell_type": "markdown",
      "metadata": {
        "id": "a03c48e8"
      },
      "source": [
        "## Divisão dos Dados\n",
        "Dividimos em 80% para treino e 20% para teste."
      ]
    },
    {
      "cell_type": "code",
      "execution_count": 6,
      "metadata": {
        "id": "d12c051a"
      },
      "outputs": [],
      "source": [
        "trainset, testset = train_test_split(data, test_size=0.2, random_state=100)"
      ]
    },
    {
      "cell_type": "markdown",
      "source": [
        "### SVD padrão"
      ],
      "metadata": {
        "id": "cujGr7C5CiTS"
      }
    },
    {
      "cell_type": "markdown",
      "metadata": {
        "id": "604480ef"
      },
      "source": [
        "## Treinamento do Modelo\n",
        "Utilizamos o algoritmo **SVD**, que identifica padrões latentes nas avaliações."
      ]
    },
    {
      "cell_type": "markdown",
      "source": [],
      "metadata": {
        "id": "coMttr-A9iFy"
      }
    },
    {
      "cell_type": "code",
      "execution_count": 7,
      "metadata": {
        "colab": {
          "base_uri": "https://localhost:8080/"
        },
        "id": "18114828",
        "outputId": "a66eef29-2df5-4f23-ebd1-9b0bb4164149"
      },
      "outputs": [
        {
          "output_type": "execute_result",
          "data": {
            "text/plain": [
              "<surprise.prediction_algorithms.matrix_factorization.SVD at 0x7fe911ca1ad0>"
            ]
          },
          "metadata": {},
          "execution_count": 7
        }
      ],
      "source": [
        "model = SVD()\n",
        "model.fit(trainset)"
      ]
    },
    {
      "cell_type": "markdown",
      "source": [
        "## Calcular R²"
      ],
      "metadata": {
        "id": "asMMzRT19j5J"
      }
    },
    {
      "cell_type": "code",
      "source": [],
      "metadata": {
        "id": "ngYUtFAX9qwm"
      },
      "execution_count": null,
      "outputs": []
    },
    {
      "cell_type": "markdown",
      "metadata": {
        "id": "9b2ee782"
      },
      "source": [
        "## Avaliação do Modelo\n",
        "Utilizamos RMSE e MAE como métricas de erro."
      ]
    },
    {
      "cell_type": "code",
      "execution_count": 8,
      "metadata": {
        "colab": {
          "base_uri": "https://localhost:8080/"
        },
        "id": "f3585a15",
        "outputId": "9aed8304-80e8-4266-fdd0-ff41c37c5da0"
      },
      "outputs": [
        {
          "output_type": "stream",
          "name": "stdout",
          "text": [
            "Avaliação do Modelo SVD Padrão:\n",
            "RMSE: 0.9338\n",
            "MSE: 0.8721\n"
          ]
        }
      ],
      "source": [
        "predictions = model.test(testset)\n",
        "print(\"Avaliação do Modelo SVD Padrão:\")\n",
        "svd_default_rmse = rmse(predictions)\n",
        "svd_default_mse = mse(predictions)"
      ]
    },
    {
      "cell_type": "markdown",
      "metadata": {
        "id": "b911b282"
      },
      "source": [
        "## Geração de Recomendações\n",
        "Selecionamos um usuário e recomendamos filmes que ele ainda não avaliou, com base nas maiores notas previstas."
      ]
    },
    {
      "cell_type": "code",
      "execution_count": 9,
      "metadata": {
        "id": "fc4d3890"
      },
      "outputs": [],
      "source": [
        "user_id = 78\n",
        "user_movies = df[df['userId'] == user_id]['itemId'].unique()\n",
        "all_movie_ids = df['itemId'].unique()\n",
        "movies_not_seen = [movie for movie in all_movie_ids if movie not in user_movies]\n",
        "\n",
        "user_predictions = [model.predict(user_id, movie_id) for movie_id in movies_not_seen]\n",
        "top_10 = sorted(user_predictions, key=lambda x: x.est, reverse=True)[:10]"
      ]
    },
    {
      "cell_type": "markdown",
      "metadata": {
        "id": "3f54f9e2"
      },
      "source": [
        "## Exibir Títulos dos Filmes"
      ]
    },
    {
      "cell_type": "code",
      "execution_count": 10,
      "metadata": {
        "colab": {
          "base_uri": "https://localhost:8080/"
        },
        "id": "50e0cac0",
        "outputId": "68bf6b55-9574-4ce3-f8ad-6d5f6522304a"
      },
      "outputs": [
        {
          "output_type": "stream",
          "name": "stdout",
          "text": [
            "\n",
            "Top 10 recomendações para o usuário 78:\n",
            "\n",
            "Close Shave, A (1995) — Nota prevista: 4.85\n",
            "Godfather, The (1972) — Nota prevista: 4.74\n",
            "Silence of the Lambs, The (1991) — Nota prevista: 4.61\n",
            "Shall We Dance? (1996) — Nota prevista: 4.61\n",
            "Shawshank Redemption, The (1994) — Nota prevista: 4.61\n",
            "Godfather: Part II, The (1974) — Nota prevista: 4.61\n",
            "L.A. Confidential (1997) — Nota prevista: 4.60\n",
            "12 Angry Men (1957) — Nota prevista: 4.57\n",
            "Man Who Would Be King, The (1975) — Nota prevista: 4.57\n",
            "Casablanca (1942) — Nota prevista: 4.57\n"
          ]
        }
      ],
      "source": [
        "print(f\"\\nTop 10 recomendações para o usuário {user_id}:\\n\")\n",
        "for pred in top_10:\n",
        "    movie_name = movie_titles.get(int(pred.iid), f\"ID {pred.iid}\")\n",
        "    print(f\"{movie_name} — Nota prevista: {pred.est:.2f}\")\n"
      ]
    },
    {
      "cell_type": "markdown",
      "source": [
        "### Otimização com GridSearchCV no SVD"
      ],
      "metadata": {
        "id": "yX8likK2CwuF"
      }
    },
    {
      "cell_type": "code",
      "source": [
        "\n",
        "param_grid = {\n",
        "    'n_epochs': [30, 100, 500],\n",
        "    'lr_all': [0.005, 0.01, 0.05],\n",
        "    'reg_all': [0.2, 0.3, 0.4]\n",
        "}\n",
        "\n",
        "gs = GridSearchCV(SVD, param_grid, measures=['rmse', 'mse'], cv=3, n_jobs=-1)\n",
        "gs.fit(data)\n",
        "\n",
        "print(\"\\nMelhor RMSE encontrado:\", gs.best_score['rmse'])\n",
        "print(\"Melhores parâmetros para o SVD:\", gs.best_params['rmse'])"
      ],
      "metadata": {
        "colab": {
          "base_uri": "https://localhost:8080/"
        },
        "id": "ApFpxpnZC2nm",
        "outputId": "8b169a80-73d7-4f82-eeac-d8ba8270cb6a"
      },
      "execution_count": 11,
      "outputs": [
        {
          "output_type": "stream",
          "name": "stdout",
          "text": [
            "\n",
            "Melhor RMSE encontrado: 0.9296226797031434\n",
            "Melhores parâmetros para o SVD: {'n_epochs': 500, 'lr_all': 0.005, 'reg_all': 0.2}\n"
          ]
        }
      ]
    },
    {
      "cell_type": "markdown",
      "source": [
        "# Treinamento do Modelo SVD com melhores hiperparâmetros"
      ],
      "metadata": {
        "id": "JR7Z348QD_n-"
      }
    },
    {
      "cell_type": "code",
      "source": [
        "best_svd = SVD(**gs.best_params['rmse'])\n",
        "best_svd.fit(trainset)"
      ],
      "metadata": {
        "colab": {
          "base_uri": "https://localhost:8080/"
        },
        "id": "_pIQ7C4XECeO",
        "outputId": "af92d846-227d-4369-eb1e-87d68f883cb3"
      },
      "execution_count": 12,
      "outputs": [
        {
          "output_type": "execute_result",
          "data": {
            "text/plain": [
              "<surprise.prediction_algorithms.matrix_factorization.SVD at 0x7fe90f7b0750>"
            ]
          },
          "metadata": {},
          "execution_count": 12
        }
      ]
    },
    {
      "cell_type": "markdown",
      "source": [
        "# Avaliação do SVD otimizado"
      ],
      "metadata": {
        "id": "N1tRtxdLEFV7"
      }
    },
    {
      "cell_type": "code",
      "source": [
        "best_predictions = best_svd.test(testset)\n",
        "\n",
        "print(\"\\nAvaliação do Melhor Modelo SVD (GridSearch):\")\n",
        "svd_grid_rmse = rmse(best_predictions)\n",
        "svd_grid_mse = mse(best_predictions)"
      ],
      "metadata": {
        "colab": {
          "base_uri": "https://localhost:8080/"
        },
        "id": "3qu1tO5JEIwo",
        "outputId": "ee8319ec-69cd-464f-9bf3-9cbbc177e441"
      },
      "execution_count": 13,
      "outputs": [
        {
          "output_type": "stream",
          "name": "stdout",
          "text": [
            "\n",
            "Avaliação do Melhor Modelo SVD (GridSearch):\n",
            "RMSE: 0.9255\n",
            "MSE: 0.8566\n"
          ]
        }
      ]
    },
    {
      "cell_type": "markdown",
      "source": [
        "## Utilização do NFM (Fatoração de matriz não linear )"
      ],
      "metadata": {
        "id": "61cqAyQpsQgE"
      }
    },
    {
      "cell_type": "code",
      "source": [
        "nmf_model = NMF()\n",
        "nmf_model.fit(trainset)\n",
        "nmf_predictions = nmf_model.test(testset)\n",
        "\n",
        "print(\"\\nAvaliação do Modelo NMF:\")\n",
        "nmf_rmse = rmse(nmf_predictions)\n",
        "nmf_mse = mse(nmf_predictions)"
      ],
      "metadata": {
        "colab": {
          "base_uri": "https://localhost:8080/"
        },
        "id": "zUmKhQdmsaG6",
        "outputId": "fe2d9e54-1d56-483a-8512-410fff28e117"
      },
      "execution_count": 14,
      "outputs": [
        {
          "output_type": "stream",
          "name": "stdout",
          "text": [
            "\n",
            "Avaliação do Modelo NMF:\n",
            "RMSE: 0.9579\n",
            "MSE: 0.9176\n"
          ]
        }
      ]
    },
    {
      "cell_type": "code",
      "source": [
        "user_predictions_nmf = [nmf_model.predict(user_id, movie_id) for movie_id in movies_not_seen]\n",
        "top_10_nmf = sorted(user_predictions_nmf, key=lambda x: x.est, reverse=True)[:10]\n",
        "\n",
        "print(f\"\\nTop 10 recomendações para o usuário {user_id} com NMF:\\n\")\n",
        "for pred in top_10_nmf:\n",
        "    movie_name = movie_titles.get(int(pred.iid), f\"ID {pred.iid}\")\n",
        "    print(f\"{movie_name} — Nota prevista: {pred.est:.2f}\")\n"
      ],
      "metadata": {
        "colab": {
          "base_uri": "https://localhost:8080/"
        },
        "id": "5Ps-rEC7seQw",
        "outputId": "65684924-084e-4e71-ae43-dc3e3ff0c484"
      },
      "execution_count": 15,
      "outputs": [
        {
          "output_type": "stream",
          "name": "stdout",
          "text": [
            "\n",
            "Top 10 recomendações para o usuário 78 com NMF:\n",
            "\n",
            "Three Colors: Blue (1993) — Nota prevista: 5.00\n",
            "Big Blue, The (Grand bleu, Le) (1988) — Nota prevista: 5.00\n",
            "Maya Lin: A Strong Clear Vision (1994) — Nota prevista: 5.00\n",
            "Underground (1995) — Nota prevista: 5.00\n",
            "Hugo Pool (1997) — Nota prevista: 5.00\n",
            "Pather Panchali (1955) — Nota prevista: 5.00\n",
            "Celestial Clockwork (1994) — Nota prevista: 5.00\n",
            "World of Apu, The (Apur Sansar) (1959) — Nota prevista: 5.00\n",
            "Magic Hour, The (1998) — Nota prevista: 5.00\n",
            "Nénette et Boni (1996) — Nota prevista: 4.96\n"
          ]
        }
      ]
    },
    {
      "cell_type": "code",
      "source": [
        "param_grid_nmf = {\n",
        "    'n_factors': [20, 30, 50],\n",
        "    'n_epochs': [30, 100, 500],\n",
        "    'reg_pu': [0.06, 0.1, 0.15],\n",
        "    'reg_qi': [0.06, 0.1, 0.15]\n",
        "}\n",
        "\n",
        "gs_nmf = GridSearchCV(NMF, param_grid_nmf, measures=['rmse', 'mse'], cv=3, n_jobs=-1)\n",
        "gs_nmf.fit(data)\n",
        "\n",
        "print(\"\\nMelhor RMSE encontrado para NMF:\", gs_nmf.best_score['rmse'])\n",
        "print(\"Melhores parâmetros para o NMF:\", gs_nmf.best_params['rmse'])\n",
        "\n",
        "best_nmf = NMF(**gs_nmf.best_params['rmse'])\n",
        "best_nmf.fit(trainset)\n",
        "best_nmf_predictions = best_nmf.test(testset)\n",
        "\n",
        "nmf_grid_rmse = rmse(best_nmf_predictions)\n",
        "nmf_grid_mse = mse(best_nmf_predictions)"
      ],
      "metadata": {
        "colab": {
          "base_uri": "https://localhost:8080/"
        },
        "id": "qnuheBNtkaOz",
        "outputId": "37be6757-d566-44c6-d23c-5c0d651f1e51"
      },
      "execution_count": 16,
      "outputs": [
        {
          "output_type": "stream",
          "name": "stdout",
          "text": [
            "\n",
            "Melhor RMSE encontrado para NMF: 0.9262186765941672\n",
            "Melhores parâmetros para o NMF: {'n_factors': 50, 'n_epochs': 500, 'reg_pu': 0.15, 'reg_qi': 0.1}\n",
            "RMSE: 0.9122\n",
            "MSE: 0.8321\n"
          ]
        }
      ]
    },
    {
      "cell_type": "markdown",
      "source": [
        "### Comparação dos modelos em Gráfico"
      ],
      "metadata": {
        "id": "mVhvxq7LEcRn"
      }
    },
    {
      "cell_type": "code",
      "source": [
        "models = ['SVD (Default)', 'SVD (GridSearch)', 'NMF (Default)', 'NMF (GridSearch)']\n",
        "rmse_values = [svd_default_rmse, svd_grid_rmse, nmf_rmse, nmf_grid_rmse]\n",
        "mse_values = [svd_default_mse, svd_grid_mse, nmf_mse, nmf_grid_mse]\n",
        "\n",
        "\n",
        "x = np.arange(len(models))\n",
        "width = 0.35\n",
        "\n",
        "fig, ax = plt.subplots(figsize=(12, 6))\n",
        "\n",
        "rects1 = ax.bar(x - width/2, rmse_values, width, label='RMSE', color='cornflowerblue')\n",
        "rects2 = ax.bar(x + width/2, mse_values, width, label='MSE', color='tomato')\n",
        "\n",
        "ax.set_ylabel('Erro')\n",
        "ax.set_title('Comparação de Erros: Modelos Default vs Otimizados (SVD e NMF)')\n",
        "ax.set_xticks(x)\n",
        "ax.set_xticklabels(models, rotation=10)\n",
        "ax.legend()\n",
        "\n",
        "# Mostrar valores nas colunas\n",
        "for i, rect in enumerate(rects1):\n",
        "    ax.text(rect.get_x() + rect.get_width()/2., rect.get_height() + 0.01,\n",
        "            f'{rmse_values[i]:.2f}', ha='center', va='bottom', fontsize=9)\n",
        "\n",
        "for i, rect in enumerate(rects2):\n",
        "    ax.text(rect.get_x() + rect.get_width()/2., rect.get_height() + 0.01,\n",
        "            f'{mse_values[i]:.2f}', ha='center', va='bottom', fontsize=9)\n",
        "\n",
        "plt.tight_layout()\n",
        "plt.show()\n"
      ],
      "metadata": {
        "colab": {
          "base_uri": "https://localhost:8080/",
          "height": 484
        },
        "id": "d0Jxe35XEd2J",
        "outputId": "854f9a25-7fdf-4912-c742-d4f0bf78ffa1"
      },
      "execution_count": 17,
      "outputs": [
        {
          "output_type": "display_data",
          "data": {
            "text/plain": [
              "<Figure size 1200x600 with 1 Axes>"
            ],
            "image/png": "[encoded data removed]"
          },
          "metadata": {}
        }
      ]
    },
    {
      "cell_type": "markdown",
      "source": [],
      "metadata": {
        "id": "zvcp29WmD4yN"
      }
    }
  ],
  "metadata": {
    "colab": {
      "provenance": [],
      "toc_visible": true,
      "include_colab_link": true
    },
    "kernelspec": {
      "display_name": "Python 3",
      "name": "python3"
    },
    "language_info": {
      "name": "python"
    }
  },
  "nbformat": 4,
  "nbformat_minor": 0
}