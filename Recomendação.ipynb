{
  "cells": [
    {
      "cell_type": "markdown",
      "metadata": {
        "id": "view-in-github",
        "colab_type": "text"
      },
      "source": [
        "<a href=\"https://colab.research.google.com/github/Juliadambros/Sistema-de-Recomendacao-de-Filmes/blob/main/Recomenda%C3%A7%C3%A3o.ipynb\" target=\"_parent\"><img src=\"https://colab.research.google.com/assets/colab-badge.svg\" alt=\"Open In Colab\"/></a>"
      ]
    },
    {
      "cell_type": "markdown",
      "metadata": {
        "id": "f48d869d"
      },
      "source": [
        "# Sistema de Recomendação com SVD e NFM\n",
        "Este notebook implementa um sistema de recomendação baseado em **filtragem colaborativa**, utilizando o algoritmo **SVD** e **NFM** da biblioteca `Surprise`"
      ]
    },
    {
      "cell_type": "markdown",
      "metadata": {
        "id": "f0b59259"
      },
      "source": [
        "## Importação das Bibliotecas"
      ]
    },
    {
      "cell_type": "code",
      "execution_count": null,
      "metadata": {
        "id": "b0497fb7",
        "colab": {
          "base_uri": "https://localhost:8080/"
        },
        "outputId": "ac2ad5ef-f2bc-4949-8792-adf5c7365a78"
      },
      "outputs": [
        {
          "output_type": "stream",
          "name": "stdout",
          "text": [
            "Requirement already satisfied: numpy==1.24.4 in /usr/local/lib/python3.11/dist-packages (1.24.4)\n",
            "Found existing installation: scikit-surprise 1.1.4\n",
            "Uninstalling scikit-surprise-1.1.4:\n",
            "  Successfully uninstalled scikit-surprise-1.1.4\n",
            "Collecting scikit-surprise\n",
            "  Using cached scikit_surprise-1.1.4-cp311-cp311-linux_x86_64.whl\n",
            "Requirement already satisfied: joblib>=1.2.0 in /usr/local/lib/python3.11/dist-packages (from scikit-surprise) (1.5.1)\n",
            "Requirement already satisfied: numpy>=1.19.5 in /usr/local/lib/python3.11/dist-packages (from scikit-surprise) (1.24.4)\n",
            "Requirement already satisfied: scipy>=1.6.0 in /usr/local/lib/python3.11/dist-packages (from scikit-surprise) (1.15.3)\n",
            "Installing collected packages: scikit-surprise\n",
            "Successfully installed scikit-surprise-1.1.4\n"
          ]
        }
      ],
      "source": [
        "!pip install numpy==1.24.4\n",
        "!pip uninstall -y scikit-surprise\n",
        "!pip install scikit-surprise\n",
        "\n",
        "from surprise import Dataset, Reader, SVD, NMF\n",
        "from surprise.model_selection import train_test_split\n",
        "from surprise.accuracy import rmse, mae, mse\n",
        "import pandas as pd\n",
        "import numpy as np\n",
        "import scipy.sparse as sparse\n",
        "import matplotlib.pyplot as plt\n",
        "from surprise.model_selection import GridSearchCV"
      ]
    },
    {
      "cell_type": "markdown",
      "metadata": {
        "id": "8de294a2"
      },
      "source": [
        "##  Carregar o Dataset\n",
        "O dataset deve conter pelo menos as colunas `userId`, `movieId` e `rating`."
      ]
    },
    {
      "cell_type": "code",
      "execution_count": null,
      "metadata": {
        "colab": {
          "base_uri": "https://localhost:8080/",
          "height": 206
        },
        "id": "b2b55b84",
        "outputId": "744aaa64-2344-442c-8879-9b5b1be87466"
      },
      "outputs": [
        {
          "output_type": "execute_result",
          "data": {
            "text/plain": [
              "   userId  itemId  rating  timestamp\n",
              "0     196     242       3  881250949\n",
              "1     186     302       3  891717742\n",
              "2      22     377       1  878887116\n",
              "3     244      51       2  880606923\n",
              "4     166     346       1  886397596"
            ],
            "text/html": [
              "\n",
              "  <div id=\"df-17263b54-7a35-448e-b5fa-16c001ba63fb\" class=\"colab-df-container\">\n",
              "    <div>\n",
              "<style scoped>\n",
              "    .dataframe tbody tr th:only-of-type {\n",
              "        vertical-align: middle;\n",
              "    }\n",
              "\n",
              "    .dataframe tbody tr th {\n",
              "        vertical-align: top;\n",
              "    }\n",
              "\n",
              "    .dataframe thead th {\n",
              "        text-align: right;\n",
              "    }\n",
              "</style>\n",
              "<table border=\"1\" class=\"dataframe\">\n",
              "  <thead>\n",
              "    <tr style=\"text-align: right;\">\n",
              "      <th></th>\n",
              "      <th>userId</th>\n",
              "      <th>itemId</th>\n",
              "      <th>rating</th>\n",
              "      <th>timestamp</th>\n",
              "    </tr>\n",
              "  </thead>\n",
              "  <tbody>\n",
              "    <tr>\n",
              "      <th>0</th>\n",
              "      <td>196</td>\n",
              "      <td>242</td>\n",
              "      <td>3</td>\n",
              "      <td>881250949</td>\n",
              "    </tr>\n",
              "    <tr>\n",
              "      <th>1</th>\n",
              "      <td>186</td>\n",
              "      <td>302</td>\n",
              "      <td>3</td>\n",
              "      <td>891717742</td>\n",
              "    </tr>\n",
              "    <tr>\n",
              "      <th>2</th>\n",
              "      <td>22</td>\n",
              "      <td>377</td>\n",
              "      <td>1</td>\n",
              "      <td>878887116</td>\n",
              "    </tr>\n",
              "    <tr>\n",
              "      <th>3</th>\n",
              "      <td>244</td>\n",
              "      <td>51</td>\n",
              "      <td>2</td>\n",
              "      <td>880606923</td>\n",
              "    </tr>\n",
              "    <tr>\n",
              "      <th>4</th>\n",
              "      <td>166</td>\n",
              "      <td>346</td>\n",
              "      <td>1</td>\n",
              "      <td>886397596</td>\n",
              "    </tr>\n",
              "  </tbody>\n",
              "</table>\n",
              "</div>\n",
              "    <div class=\"colab-df-buttons\">\n",
              "      \n",
              "  <div class=\"colab-df-container\">\n",
              "    <button class=\"colab-df-convert\" onclick=\"convertToInteractive('df-17263b54-7a35-448e-b5fa-16c001ba63fb')\"\n",
              "            title=\"Convert this dataframe to an interactive table.\"\n",
              "            style=\"display:none;\">\n",
              "      \n",
              "  <svg xmlns=\"http://www.w3.org/2000/svg\" height=\"24px\" viewBox=\"0 -960 960 960\">\n",
              "    <path d=\"M120-120v-720h720v720H120Zm60-500h600v-160H180v160Zm220 220h160v-160H400v160Zm0 220h160v-160H400v160ZM180-400h160v-160H180v160Zm440 0h160v-160H620v160ZM180-180h160v-160H180v160Zm440 0h160v-160H620v160Z\"/>\n",
              "  </svg>\n",
              "    </button>\n",
              "    \n",
              "  <style>\n",
              "    .colab-df-container {\n",
              "      display:flex;\n",
              "      gap: 12px;\n",
              "    }\n",
              "\n",
              "    .colab-df-convert {\n",
              "      background-color: #E8F0FE;\n",
              "      border: none;\n",
              "      border-radius: 50%;\n",
              "      cursor: pointer;\n",
              "      display: none;\n",
              "      fill: #1967D2;\n",
              "      height: 32px;\n",
              "      padding: 0 0 0 0;\n",
              "      width: 32px;\n",
              "    }\n",
              "\n",
              "    .colab-df-convert:hover {\n",
              "      background-color: #E2EBFA;\n",
              "      box-shadow: 0px 1px 2px rgba(60, 64, 67, 0.3), 0px 1px 3px 1px rgba(60, 64, 67, 0.15);\n",
              "      fill: #174EA6;\n",
              "    }\n",
              "\n",
              "    .colab-df-buttons div {\n",
              "      margin-bottom: 4px;\n",
              "    }\n",
              "\n",
              "    [theme=dark] .colab-df-convert {\n",
              "      background-color: #3B4455;\n",
              "      fill: #D2E3FC;\n",
              "    }\n",
              "\n",
              "    [theme=dark] .colab-df-convert:hover {\n",
              "      background-color: #434B5C;\n",
              "      box-shadow: 0px 1px 3px 1px rgba(0, 0, 0, 0.15);\n",
              "      filter: drop-shadow(0px 1px 2px rgba(0, 0, 0, 0.3));\n",
              "      fill: #FFFFFF;\n",
              "    }\n",
              "  </style>\n",
              "\n",
              "    <script>\n",
              "      const buttonEl =\n",
              "        document.querySelector('#df-17263b54-7a35-448e-b5fa-16c001ba63fb button.colab-df-convert');\n",
              "      buttonEl.style.display =\n",
              "        google.colab.kernel.accessAllowed ? 'block' : 'none';\n",
              "\n",
              "      async function convertToInteractive(key) {\n",
              "        const element = document.querySelector('#df-17263b54-7a35-448e-b5fa-16c001ba63fb');\n",
              "        const dataTable =\n",
              "          await google.colab.kernel.invokeFunction('convertToInteractive',\n",
              "                                                    [key], {});\n",
              "        if (!dataTable) return;\n",
              "\n",
              "        const docLinkHtml = 'Like what you see? Visit the ' +\n",
              "          '<a target=\"_blank\" href=https://colab.research.google.com/notebooks/data_table.ipynb>data table notebook</a>'\n",
              "          + ' to learn more about interactive tables.';\n",
              "        element.innerHTML = '';\n",
              "        dataTable['output_type'] = 'display_data';\n",
              "        await google.colab.output.renderOutput(dataTable, element);\n",
              "        const docLink = document.createElement('div');\n",
              "        docLink.innerHTML = docLinkHtml;\n",
              "        element.appendChild(docLink);\n",
              "      }\n",
              "    </script>\n",
              "  </div>\n",
              "  \n",
              "    </div>\n",
              "  </div>\n",
              "  "
            ]
          },
          "metadata": {},
          "execution_count": 2
        }
      ],
      "source": [
        "url = \"http://files.grouplens.org/datasets/movielens/ml-100k/u.data\"\n",
        "df = pd.read_csv(url, sep='\\t', names=['userId', 'itemId', 'rating', 'timestamp'])\n",
        "df.head()"
      ]
    },
    {
      "cell_type": "markdown",
      "source": [
        "Carregando os dados dos filmes (para mostrar os nomes depois)"
      ],
      "metadata": {
        "id": "LB9MpgfSDclK"
      }
    },
    {
      "cell_type": "code",
      "source": [
        "movie_url = \"http://files.grouplens.org/datasets/movielens/ml-100k/u.item\"\n",
        "movie_columns = ['itemId', 'title', 'release_date', 'video_release_date', 'IMDb_URL'] + [f'genre_{i}' for i in range(19)]\n",
        "movies_df = pd.read_csv(movie_url, sep='|', names=movie_columns, encoding='latin-1')\n",
        "\n",
        "# Criando o dicionário de ID -> título do filme\n",
        "movie_titles = dict(zip(movies_df['itemId'], movies_df['title']))"
      ],
      "metadata": {
        "id": "fZDkjo-6DfQA"
      },
      "execution_count": null,
      "outputs": []
    },
    {
      "cell_type": "markdown",
      "metadata": {
        "id": "e473a760"
      },
      "source": [
        "## Preparação dos Dados\n",
        "Define o intervalo de notas e carrega os dados no formato da biblioteca `Surprise`."
      ]
    },
    {
      "cell_type": "code",
      "execution_count": null,
      "metadata": {
        "id": "60c16eaf"
      },
      "outputs": [],
      "source": [
        "reader = Reader(rating_scale=(1, 5))\n",
        "data = Dataset.load_from_df(df[['userId', 'itemId', 'rating']], reader)"
      ]
    },
    {
      "cell_type": "markdown",
      "metadata": {
        "id": "a03c48e8"
      },
      "source": [
        "## Divisão dos Dados\n",
        "Dividimos em 80% para treino e 20% para teste."
      ]
    },
    {
      "cell_type": "code",
      "execution_count": null,
      "metadata": {
        "id": "d12c051a"
      },
      "outputs": [],
      "source": [
        "trainset, testset = train_test_split(data, test_size=0.2, random_state=100)"
      ]
    },
    {
      "cell_type": "markdown",
      "source": [
        "### SVD padrão"
      ],
      "metadata": {
        "id": "cujGr7C5CiTS"
      }
    },
    {
      "cell_type": "markdown",
      "metadata": {
        "id": "604480ef"
      },
      "source": [
        "## Treinamento do Modelo\n",
        "Utilizamos o algoritmo **SVD**, que identifica padrões latentes nas avaliações."
      ]
    },
    {
      "cell_type": "markdown",
      "source": [],
      "metadata": {
        "id": "coMttr-A9iFy"
      }
    },
    {
      "cell_type": "code",
      "execution_count": null,
      "metadata": {
        "colab": {
          "base_uri": "https://localhost:8080/"
        },
        "id": "18114828",
        "outputId": "d6d8006e-a501-49c0-f3c2-37cedf465f1e"
      },
      "outputs": [
        {
          "output_type": "execute_result",
          "data": {
            "text/plain": [
              "<surprise.prediction_algorithms.matrix_factorization.SVD at 0x7afd3ca7a650>"
            ]
          },
          "metadata": {},
          "execution_count": 6
        }
      ],
      "source": [
        "model = SVD()\n",
        "model.fit(trainset)"
      ]
    },
    {
      "cell_type": "markdown",
      "metadata": {
        "id": "9b2ee782"
      },
      "source": [
        "## Avaliação do Modelo\n",
        "Utilizamos RMSE e MAE como métricas de erro."
      ]
    },
    {
      "cell_type": "code",
      "execution_count": null,
      "metadata": {
        "colab": {
          "base_uri": "https://localhost:8080/"
        },
        "id": "f3585a15",
        "outputId": "60e71d20-d606-42ae-c8f9-72bd0897adba"
      },
      "outputs": [
        {
          "output_type": "stream",
          "name": "stdout",
          "text": [
            "Avaliação do Modelo SVD Padrão:\n",
            "RMSE: 0.9345\n",
            "MSE: 0.8732\n",
            "R²: 0.30558193939061895\n"
          ]
        }
      ],
      "source": [
        "predictions = model.test(testset)\n",
        "print(\"Avaliação do Modelo SVD Padrão:\")\n",
        "svd_default_rmse = rmse(predictions)\n",
        "svd_default_mse = mse(predictions)\n",
        "\n",
        "# Cálculo do R² para SVD padrão\n",
        "true_ratings = np.array([pred.r_ui for pred in predictions])\n",
        "estimated_ratings = np.array([pred.est for pred in predictions])\n",
        "mean_true = np.mean(true_ratings)\n",
        "ss_res = np.sum((true_ratings - estimated_ratings) ** 2)\n",
        "ss_tot = np.sum((true_ratings - mean_true) ** 2)\n",
        "svd_default_r2 = 1 - (ss_res / ss_tot)\n",
        "print(\"R²:\", svd_default_r2)\n"
      ]
    },
    {
      "cell_type": "markdown",
      "metadata": {
        "id": "b911b282"
      },
      "source": [
        "## Geração de Recomendações\n",
        "Selecionamos um usuário e recomendamos filmes que ele ainda não avaliou, com base nas maiores notas previstas."
      ]
    },
    {
      "cell_type": "code",
      "execution_count": null,
      "metadata": {
        "id": "fc4d3890"
      },
      "outputs": [],
      "source": [
        "user_id = 78\n",
        "user_movies = df[df['userId'] == user_id]['itemId'].unique()\n",
        "all_movie_ids = df['itemId'].unique()\n",
        "movies_not_seen = [movie for movie in all_movie_ids if movie not in user_movies]\n",
        "\n",
        "user_predictions = [model.predict(user_id, movie_id) for movie_id in movies_not_seen]\n",
        "top_10 = sorted(user_predictions, key=lambda x: x.est, reverse=True)[:10]"
      ]
    },
    {
      "cell_type": "markdown",
      "metadata": {
        "id": "3f54f9e2"
      },
      "source": [
        "## Exibir Títulos dos Filmes"
      ]
    },
    {
      "cell_type": "code",
      "execution_count": null,
      "metadata": {
        "colab": {
          "base_uri": "https://localhost:8080/"
        },
        "id": "50e0cac0",
        "outputId": "d08efef3-5f27-4b81-f9b8-0c38a7d7af7e"
      },
      "outputs": [
        {
          "output_type": "stream",
          "name": "stdout",
          "text": [
            "\n",
            "Top 10 recomendações para o usuário 78:\n",
            "\n",
            "Close Shave, A (1995) — Nota prevista: 4.69\n",
            "Silence of the Lambs, The (1991) — Nota prevista: 4.54\n",
            "L.A. Confidential (1997) — Nota prevista: 4.48\n",
            "Godfather, The (1972) — Nota prevista: 4.47\n",
            "Cinema Paradiso (1988) — Nota prevista: 4.46\n",
            "Lawrence of Arabia (1962) — Nota prevista: 4.45\n",
            "Casablanca (1942) — Nota prevista: 4.44\n",
            "Hamlet (1996) — Nota prevista: 4.44\n",
            "Usual Suspects, The (1995) — Nota prevista: 4.44\n",
            "Shawshank Redemption, The (1994) — Nota prevista: 4.43\n"
          ]
        }
      ],
      "source": [
        "print(f\"\\nTop 10 recomendações para o usuário {user_id}:\\n\")\n",
        "for pred in top_10:\n",
        "    movie_name = movie_titles.get(int(pred.iid), f\"ID {pred.iid}\")\n",
        "    print(f\"{movie_name} — Nota prevista: {pred.est:.2f}\")\n"
      ]
    },
    {
      "cell_type": "markdown",
      "source": [
        "### Otimização com GridSearchCV no SVD"
      ],
      "metadata": {
        "id": "yX8likK2CwuF"
      }
    },
    {
      "cell_type": "code",
      "source": [
        "\n",
        "param_grid = {\n",
        "    'n_epochs': [500, 1000, 2000],\n",
        "    'lr_all': [0.0001, 0.001, 0.005],\n",
        "    'reg_all': [0.01, 0.1, 0.2]\n",
        "}\n",
        "\n",
        "gs = GridSearchCV(SVD, param_grid, measures=['rmse', 'mse'], cv=3, n_jobs=-1)\n",
        "gs.fit(data)\n",
        "\n",
        "print(\"\\nMelhor RMSE encontrado:\", gs.best_score['rmse'])\n",
        "print(\"Melhores parâmetros para o SVD:\", gs.best_params['rmse'])"
      ],
      "metadata": {
        "id": "ApFpxpnZC2nm"
      },
      "execution_count": null,
      "outputs": []
    },
    {
      "cell_type": "markdown",
      "source": [
        "# Treinamento do Modelo SVD com melhores hiperparâmetros"
      ],
      "metadata": {
        "id": "JR7Z348QD_n-"
      }
    },
    {
      "cell_type": "code",
      "source": [
        "best_svd = SVD(**gs.best_params['rmse'])\n",
        "best_svd.fit(trainset)"
      ],
      "metadata": {
        "colab": {
          "base_uri": "https://localhost:8080/"
        },
        "id": "_pIQ7C4XECeO",
        "outputId": "38e365f9-9a66-4710-a563-f93f27cbef94"
      },
      "execution_count": 11,
      "outputs": [
        {
          "output_type": "execute_result",
          "data": {
            "text/plain": [
              "<surprise.prediction_algorithms.matrix_factorization.SVD at 0x7afd3beb4950>"
            ]
          },
          "metadata": {},
          "execution_count": 11
        }
      ]
    },
    {
      "cell_type": "markdown",
      "source": [
        "# Avaliação do SVD otimizado"
      ],
      "metadata": {
        "id": "N1tRtxdLEFV7"
      }
    },
    {
      "cell_type": "code",
      "source": [
        "best_predictions = best_svd.test(testset)\n",
        "\n",
        "print(\"\\nAvaliação do Melhor Modelo SVD (GridSearch):\")\n",
        "svd_grid_rmse = rmse(best_predictions)\n",
        "svd_grid_mse = mse(best_predictions)\n",
        "# Cálculo do R²\n",
        "true_ratings = np.array([pred.r_ui for pred in best_predictions])\n",
        "estimated_ratings = np.array([pred.est for pred in best_predictions])\n",
        "mean_true = np.mean(true_ratings)\n",
        "\n",
        "ss_res = np.sum((true_ratings - estimated_ratings) ** 2)\n",
        "ss_tot = np.sum((true_ratings - mean_true) ** 2)\n",
        "\n",
        "svd_grid_r2 = 1 - (ss_res / ss_tot)\n",
        "print(\"R²:\", svd_grid_r2)"
      ],
      "metadata": {
        "colab": {
          "base_uri": "https://localhost:8080/"
        },
        "id": "3qu1tO5JEIwo",
        "outputId": "e3b8474f-0c48-4d06-fa1d-b13e54af0ab8"
      },
      "execution_count": 12,
      "outputs": [
        {
          "output_type": "stream",
          "name": "stdout",
          "text": [
            "\n",
            "Avaliação do Melhor Modelo SVD (GridSearch):\n",
            "RMSE: 0.9069\n",
            "MSE: 0.8225\n",
            "R²: 0.34586971196506866\n"
          ]
        }
      ]
    },
    {
      "cell_type": "markdown",
      "source": [
        "## Utilização do NFM (Fatoração de matriz não linear )"
      ],
      "metadata": {
        "id": "61cqAyQpsQgE"
      }
    },
    {
      "cell_type": "code",
      "source": [
        "nmf_model = NMF()\n",
        "nmf_model.fit(trainset)\n",
        "nmf_predictions = nmf_model.test(testset)\n",
        "\n",
        "print(\"\\nAvaliação do Modelo NMF:\")\n",
        "nmf_rmse = rmse(nmf_predictions)\n",
        "nmf_mse = mse(nmf_predictions)\n",
        "\n",
        "# Cálculo do R² para NMF padrão\n",
        "true_ratings = np.array([pred.r_ui for pred in nmf_predictions])\n",
        "estimated_ratings = np.array([pred.est for pred in nmf_predictions])\n",
        "mean_true = np.mean(true_ratings)\n",
        "ss_res = np.sum((true_ratings - estimated_ratings) ** 2)\n",
        "ss_tot = np.sum((true_ratings - mean_true) ** 2)\n",
        "nmf_default_r2 = 1 - (ss_res / ss_tot)\n",
        "print(\"R²:\", nmf_default_r2)"
      ],
      "metadata": {
        "colab": {
          "base_uri": "https://localhost:8080/"
        },
        "id": "zUmKhQdmsaG6",
        "outputId": "f41e1638-0f65-4b26-da2b-68d536343ec5"
      },
      "execution_count": 22,
      "outputs": [
        {
          "output_type": "stream",
          "name": "stdout",
          "text": [
            "\n",
            "Avaliação do Modelo NMF:\n",
            "RMSE: 0.9628\n",
            "MSE: 0.9270\n",
            "R²: 0.2627885039092728\n"
          ]
        }
      ]
    },
    {
      "cell_type": "code",
      "source": [
        "user_predictions_nmf = [nmf_model.predict(user_id, movie_id) for movie_id in movies_not_seen]\n",
        "top_10_nmf = sorted(user_predictions_nmf, key=lambda x: x.est, reverse=True)[:10]\n",
        "\n",
        "print(f\"\\nTop 10 recomendações para o usuário {user_id} com NMF:\\n\")\n",
        "for pred in top_10_nmf:\n",
        "    movie_name = movie_titles.get(int(pred.iid), f\"ID {pred.iid}\")\n",
        "    print(f\"{movie_name} — Nota prevista: {pred.est:.2f}\")\n"
      ],
      "metadata": {
        "colab": {
          "base_uri": "https://localhost:8080/"
        },
        "id": "5Ps-rEC7seQw",
        "outputId": "6af4e11c-af09-4f1a-a5df-e4870f0e280b"
      },
      "execution_count": 14,
      "outputs": [
        {
          "output_type": "stream",
          "name": "stdout",
          "text": [
            "\n",
            "Top 10 recomendações para o usuário 78 com NMF:\n",
            "\n",
            "Chasing Amy (1997) — Nota prevista: 5.00\n",
            "Inventing the Abbotts (1997) — Nota prevista: 5.00\n",
            "Radioland Murders (1994) — Nota prevista: 5.00\n",
            "Two Much (1996) — Nota prevista: 5.00\n",
            "Panther (1995) — Nota prevista: 5.00\n",
            "Innocents, The (1961) — Nota prevista: 5.00\n",
            "World of Apu, The (Apur Sansar) (1959) — Nota prevista: 5.00\n",
            "Stalker (1979) — Nota prevista: 5.00\n",
            "Aparajito (1956) — Nota prevista: 5.00\n",
            "Rendezvous in Paris (Rendez-vous de Paris, Les) (1995) — Nota prevista: 5.00\n"
          ]
        }
      ]
    },
    {
      "cell_type": "code",
      "source": [
        "param_grid_nmf = {\n",
        "    'n_factors': [ 50,100, 150],\n",
        "    'n_epochs': [500, 1000, 2000],\n",
        "    'reg_pu': [ 0.1, 0.15, 0.2],\n",
        "    'reg_qi': [0.06, 0.1, 0.15]\n",
        "}\n",
        "\n",
        "gs_nmf = GridSearchCV(NMF, param_grid_nmf, measures=['rmse', 'mse'], cv=3, n_jobs=-1)\n",
        "gs_nmf.fit(data)\n",
        "\n",
        "print(\"\\nMelhor RMSE encontrado para NMF:\", gs_nmf.best_score['rmse'])\n",
        "print(\"Melhores parâmetros para o NMF:\", gs_nmf.best_params['rmse'])\n",
        "\n",
        "best_nmf = NMF(**gs_nmf.best_params['rmse'])\n",
        "best_nmf.fit(trainset)\n",
        "best_nmf_predictions = best_nmf.test(testset)\n",
        "\n",
        "nmf_grid_rmse = rmse(best_nmf_predictions)\n",
        "nmf_grid_mse = mse(best_nmf_predictions)"
      ],
      "metadata": {
        "id": "qnuheBNtkaOz",
        "colab": {
          "base_uri": "https://localhost:8080/"
        },
        "outputId": "600899a9-a293-4e13-d946-ba2c126966ec"
      },
      "execution_count": 16,
      "outputs": [
        {
          "output_type": "stream",
          "name": "stdout",
          "text": [
            "\n",
            "Melhor RMSE encontrado para NMF: 0.9249361203205057\n",
            "Melhores parâmetros para o NMF: {'n_factors': 150, 'n_epochs': 500, 'reg_pu': 0.2, 'reg_qi': 0.06}\n",
            "RMSE: 0.9115\n",
            "MSE: 0.8308\n",
            "R²: 0.3393329689236054\n"
          ]
        }
      ]
    },
    {
      "cell_type": "code",
      "source": [
        "# Cálculo do R²\n",
        "true_ratings = np.array([pred.r_ui for pred in best_nmf_predictions])\n",
        "estimated_ratings = np.array([pred.est for pred in best_nmf_predictions])\n",
        "mean_true = np.mean(true_ratings)\n",
        "ss_res = np.sum((true_ratings - estimated_ratings) ** 2)\n",
        "ss_tot = np.sum((true_ratings - mean_true) ** 2)\n",
        "nmf_grid_r2 = 1 - (ss_res / ss_tot)\n",
        "print(\"R²:\", nmf_grid_r2)"
      ],
      "metadata": {
        "colab": {
          "base_uri": "https://localhost:8080/"
        },
        "id": "tO_KTOOEeXas",
        "outputId": "9f34fff7-3ab9-42c5-cad9-d8b436d8e6eb"
      },
      "execution_count": 18,
      "outputs": [
        {
          "output_type": "stream",
          "name": "stdout",
          "text": [
            "R²: 0.3393329689236054\n"
          ]
        }
      ]
    },
    {
      "cell_type": "markdown",
      "source": [
        "### Comparação dos modelos em Gráfico"
      ],
      "metadata": {
        "id": "mVhvxq7LEcRn"
      }
    },
    {
      "cell_type": "code",
      "source": [
        "# Dados\n",
        "models = ['SVD (Default)', 'SVD (GridSearch)', 'NMF (Default)', 'NMF (GridSearch)']\n",
        "rmse_values = [svd_default_rmse, svd_grid_rmse, nmf_rmse, nmf_grid_rmse]\n",
        "mse_values = [svd_default_mse, svd_grid_mse, nmf_mse, nmf_grid_mse]\n",
        "r2_values = [svd_default_r2, svd_grid_r2, nmf_default_r2, nmf_grid_r2]\n",
        "\n",
        "x = np.arange(len(models))\n",
        "width = 0.25\n",
        "\n",
        "fig, ax1 = plt.subplots(figsize=(12, 6))\n",
        "\n",
        "# Eixo principal para RMSE e MSE\n",
        "rects1 = ax1.bar(x - width, rmse_values, width, label='RMSE', color='skyblue')\n",
        "rects2 = ax1.bar(x, mse_values, width, label='MSE', color='deeppink')\n",
        "ax1.set_ylabel('Erro')\n",
        "ax1.set_ylim(0, max(max(rmse_values), max(mse_values)) + 0.5)\n",
        "\n",
        "# Eixo secundário para R²\n",
        "ax2 = ax1.twinx()\n",
        "rects3 = ax2.bar(x + width, r2_values, width, label='R²', color='mediumpurple')\n",
        "ax2.set_ylabel('R²')\n",
        "ax2.set_ylim(0, 1.1)  # R² geralmente entre 0 e 1\n",
        "\n",
        "# Configurações do gráfico\n",
        "ax1.set_title('Comparação de Métricas: Modelos Default vs Otimizados (SVD e NMF)')\n",
        "ax1.set_xticks(x)\n",
        "ax1.set_xticklabels(models, rotation=10)\n",
        "\n",
        "# Adiciona legendas combinando dos dois eixos\n",
        "handles1, labels1 = ax1.get_legend_handles_labels()\n",
        "handles2, labels2 = ax2.get_legend_handles_labels()\n",
        "ax1.legend(handles1 + handles2, labels1 + labels2, loc='upper left')\n",
        "\n",
        "# Mostrar valores nas colunas\n",
        "for i in range(len(models)):\n",
        "    ax1.text(rects1[i].get_x() + rects1[i].get_width()/2., rects1[i].get_height() + 0.01,\n",
        "             f'{rmse_values[i]:.2f}', ha='center', va='bottom', fontsize=9)\n",
        "    ax1.text(rects2[i].get_x() + rects2[i].get_width()/2., rects2[i].get_height() + 0.01,\n",
        "             f'{mse_values[i]:.2f}', ha='center', va='bottom', fontsize=9)\n",
        "    ax2.text(rects3[i].get_x() + rects3[i].get_width()/2., rects3[i].get_height() + 0.01,\n",
        "             f'{r2_values[i]:.2f}', ha='center', va='bottom', fontsize=9)\n",
        "\n",
        "plt.tight_layout()\n",
        "plt.show()\n"
      ],
      "metadata": {
        "colab": {
          "base_uri": "https://localhost:8080/",
          "height": 607
        },
        "id": "d0Jxe35XEd2J",
        "outputId": "c642f043-6893-48dc-f0bf-78712e0e98b3"
      },
      "execution_count": 29,
      "outputs": [
        {
          "output_type": "display_data",
          "data": {
            "text/plain": [
              "<Figure size 1200x600 with 2 Axes>"
            ],
            "image/png": "[encoded data removed]"
          },
          "metadata": {}
        }
      ]
    },
    {
      "cell_type": "markdown",
      "source": [],
      "metadata": {
        "id": "zvcp29WmD4yN"
      }
    }
  ],
  "metadata": {
    "colab": {
      "provenance": [],
      "include_colab_link": true
    },
    "kernelspec": {
      "display_name": "Python 3",
      "name": "python3"
    },
    "language_info": {
      "name": "python"
    }
  },
  "nbformat": 4,
  "nbformat_minor": 0
}