{
  "cells": [
    {
      "cell_type": "markdown",
      "metadata": {
        "id": "view-in-github",
        "colab_type": "text"
      },
      "source": [
        "<a href=\"https://colab.research.google.com/github/Juliadambros/Sistema-de-Recomendacao-de-Filmes/blob/main/Recomenda%C3%A7%C3%A3o.ipynb\" target=\"_parent\"><img src=\"https://colab.research.google.com/assets/colab-badge.svg\" alt=\"Open In Colab\"/></a>"
      ]
    },
    {
      "cell_type": "markdown",
      "metadata": {
        "id": "f48d869d"
      },
      "source": [
        "# Sistema de Recomendação com SVD, SVD Otimizado\n",
        "Este notebook implementa um sistema de recomendação baseado em **filtragem colaborativa**, utilizando o algoritmo **SVD** e **NFM** da biblioteca `Surprise`"
      ]
    },
    {
      "cell_type": "markdown",
      "metadata": {
        "id": "f0b59259"
      },
      "source": [
        "## Importação das Bibliotecas"
      ]
    },
    {
      "cell_type": "code",
      "execution_count": null,
      "metadata": {
        "id": "b0497fb7",
        "colab": {
          "base_uri": "https://localhost:8080/"
        },
        "outputId": "eb689c9a-fd40-4c93-b690-2c0138eb6fe5"
      },
      "outputs": [
        {
          "output_type": "stream",
          "name": "stdout",
          "text": [
            "Collecting scikit-surprise\n",
            "  Using cached scikit_surprise-1.1.4-cp311-cp311-linux_x86_64.whl\n",
            "Requirement already satisfied: joblib>=1.2.0 in /usr/local/lib/python3.11/dist-packages (from scikit-surprise) (1.5.0)\n",
            "Requirement already satisfied: numpy>=1.19.5 in /usr/local/lib/python3.11/dist-packages (from scikit-surprise) (1.24.4)\n",
            "Requirement already satisfied: scipy>=1.6.0 in /usr/local/lib/python3.11/dist-packages (from scikit-surprise) (1.15.3)\n",
            "Installing collected packages: scikit-surprise\n",
            "Successfully installed scikit-surprise-1.1.4\n"
          ]
        }
      ],
      "source": [
        "\n",
        "!pip install scikit-surprise\n",
        "\n",
        "from surprise import Dataset, Reader, SVD, NMF\n",
        "from surprise.model_selection import train_test_split\n",
        "from surprise.accuracy import rmse, mae, mse\n",
        "import pandas as pd\n",
        "import numpy as np\n",
        "import scipy.sparse as sparse\n",
        "import matplotlib.pyplot as plt\n",
        "from surprise.model_selection import GridSearchCV"
      ]
    },
    {
      "cell_type": "markdown",
      "metadata": {
        "id": "8de294a2"
      },
      "source": [
        "##  Carregar o Dataset\n",
        "O dataset deve conter pelo menos as colunas `userId`, `movieId` e `rating`."
      ]
    },
    {
      "cell_type": "code",
      "execution_count": null,
      "metadata": {
        "colab": {
          "base_uri": "https://localhost:8080/",
          "height": 206
        },
        "id": "b2b55b84",
        "outputId": "77260761-6636-410a-bedb-637d95472ba4"
      },
      "outputs": [
        {
          "output_type": "execute_result",
          "data": {
            "text/plain": [
              "   userId  itemId  rating  timestamp\n",
              "0     196     242       3  881250949\n",
              "1     186     302       3  891717742\n",
              "2      22     377       1  878887116\n",
              "3     244      51       2  880606923\n",
              "4     166     346       1  886397596"
            ],
            "text/html": [
              "\n",
              "  <div id=\"df-e9afb940-cdc2-4653-aa14-ddfcfe249d08\" class=\"colab-df-container\">\n",
              "    <div>\n",
              "<style scoped>\n",
              "    .dataframe tbody tr th:only-of-type {\n",
              "        vertical-align: middle;\n",
              "    }\n",
              "\n",
              "    .dataframe tbody tr th {\n",
              "        vertical-align: top;\n",
              "    }\n",
              "\n",
              "    .dataframe thead th {\n",
              "        text-align: right;\n",
              "    }\n",
              "</style>\n",
              "<table border=\"1\" class=\"dataframe\">\n",
              "  <thead>\n",
              "    <tr style=\"text-align: right;\">\n",
              "      <th></th>\n",
              "      <th>userId</th>\n",
              "      <th>itemId</th>\n",
              "      <th>rating</th>\n",
              "      <th>timestamp</th>\n",
              "    </tr>\n",
              "  </thead>\n",
              "  <tbody>\n",
              "    <tr>\n",
              "      <th>0</th>\n",
              "      <td>196</td>\n",
              "      <td>242</td>\n",
              "      <td>3</td>\n",
              "      <td>881250949</td>\n",
              "    </tr>\n",
              "    <tr>\n",
              "      <th>1</th>\n",
              "      <td>186</td>\n",
              "      <td>302</td>\n",
              "      <td>3</td>\n",
              "      <td>891717742</td>\n",
              "    </tr>\n",
              "    <tr>\n",
              "      <th>2</th>\n",
              "      <td>22</td>\n",
              "      <td>377</td>\n",
              "      <td>1</td>\n",
              "      <td>878887116</td>\n",
              "    </tr>\n",
              "    <tr>\n",
              "      <th>3</th>\n",
              "      <td>244</td>\n",
              "      <td>51</td>\n",
              "      <td>2</td>\n",
              "      <td>880606923</td>\n",
              "    </tr>\n",
              "    <tr>\n",
              "      <th>4</th>\n",
              "      <td>166</td>\n",
              "      <td>346</td>\n",
              "      <td>1</td>\n",
              "      <td>886397596</td>\n",
              "    </tr>\n",
              "  </tbody>\n",
              "</table>\n",
              "</div>\n",
              "    <div class=\"colab-df-buttons\">\n",
              "\n",
              "  <div class=\"colab-df-container\">\n",
              "    <button class=\"colab-df-convert\" onclick=\"convertToInteractive('df-e9afb940-cdc2-4653-aa14-ddfcfe249d08')\"\n",
              "            title=\"Convert this dataframe to an interactive table.\"\n",
              "            style=\"display:none;\">\n",
              "\n",
              "  <svg xmlns=\"http://www.w3.org/2000/svg\" height=\"24px\" viewBox=\"0 -960 960 960\">\n",
              "    <path d=\"M120-120v-720h720v720H120Zm60-500h600v-160H180v160Zm220 220h160v-160H400v160Zm0 220h160v-160H400v160ZM180-400h160v-160H180v160Zm440 0h160v-160H620v160ZM180-180h160v-160H180v160Zm440 0h160v-160H620v160Z\"/>\n",
              "  </svg>\n",
              "    </button>\n",
              "\n",
              "  <style>\n",
              "    .colab-df-container {\n",
              "      display:flex;\n",
              "      gap: 12px;\n",
              "    }\n",
              "\n",
              "    .colab-df-convert {\n",
              "      background-color: #E8F0FE;\n",
              "      border: none;\n",
              "      border-radius: 50%;\n",
              "      cursor: pointer;\n",
              "      display: none;\n",
              "      fill: #1967D2;\n",
              "      height: 32px;\n",
              "      padding: 0 0 0 0;\n",
              "      width: 32px;\n",
              "    }\n",
              "\n",
              "    .colab-df-convert:hover {\n",
              "      background-color: #E2EBFA;\n",
              "      box-shadow: 0px 1px 2px rgba(60, 64, 67, 0.3), 0px 1px 3px 1px rgba(60, 64, 67, 0.15);\n",
              "      fill: #174EA6;\n",
              "    }\n",
              "\n",
              "    .colab-df-buttons div {\n",
              "      margin-bottom: 4px;\n",
              "    }\n",
              "\n",
              "    [theme=dark] .colab-df-convert {\n",
              "      background-color: #3B4455;\n",
              "      fill: #D2E3FC;\n",
              "    }\n",
              "\n",
              "    [theme=dark] .colab-df-convert:hover {\n",
              "      background-color: #434B5C;\n",
              "      box-shadow: 0px 1px 3px 1px rgba(0, 0, 0, 0.15);\n",
              "      filter: drop-shadow(0px 1px 2px rgba(0, 0, 0, 0.3));\n",
              "      fill: #FFFFFF;\n",
              "    }\n",
              "  </style>\n",
              "\n",
              "    <script>\n",
              "      const buttonEl =\n",
              "        document.querySelector('#df-e9afb940-cdc2-4653-aa14-ddfcfe249d08 button.colab-df-convert');\n",
              "      buttonEl.style.display =\n",
              "        google.colab.kernel.accessAllowed ? 'block' : 'none';\n",
              "\n",
              "      async function convertToInteractive(key) {\n",
              "        const element = document.querySelector('#df-e9afb940-cdc2-4653-aa14-ddfcfe249d08');\n",
              "        const dataTable =\n",
              "          await google.colab.kernel.invokeFunction('convertToInteractive',\n",
              "                                                    [key], {});\n",
              "        if (!dataTable) return;\n",
              "\n",
              "        const docLinkHtml = 'Like what you see? Visit the ' +\n",
              "          '<a target=\"_blank\" href=https://colab.research.google.com/notebooks/data_table.ipynb>data table notebook</a>'\n",
              "          + ' to learn more about interactive tables.';\n",
              "        element.innerHTML = '';\n",
              "        dataTable['output_type'] = 'display_data';\n",
              "        await google.colab.output.renderOutput(dataTable, element);\n",
              "        const docLink = document.createElement('div');\n",
              "        docLink.innerHTML = docLinkHtml;\n",
              "        element.appendChild(docLink);\n",
              "      }\n",
              "    </script>\n",
              "  </div>\n",
              "\n",
              "\n",
              "    <div id=\"df-3f86e307-6624-4c40-b36f-b9c3c7b5bbdc\">\n",
              "      <button class=\"colab-df-quickchart\" onclick=\"quickchart('df-3f86e307-6624-4c40-b36f-b9c3c7b5bbdc')\"\n",
              "                title=\"Suggest charts\"\n",
              "                style=\"display:none;\">\n",
              "\n",
              "<svg xmlns=\"http://www.w3.org/2000/svg\" height=\"24px\"viewBox=\"0 0 24 24\"\n",
              "     width=\"24px\">\n",
              "    <g>\n",
              "        <path d=\"M19 3H5c-1.1 0-2 .9-2 2v14c0 1.1.9 2 2 2h14c1.1 0 2-.9 2-2V5c0-1.1-.9-2-2-2zM9 17H7v-7h2v7zm4 0h-2V7h2v10zm4 0h-2v-4h2v4z\"/>\n",
              "    </g>\n",
              "</svg>\n",
              "      </button>\n",
              "\n",
              "<style>\n",
              "  .colab-df-quickchart {\n",
              "      --bg-color: #E8F0FE;\n",
              "      --fill-color: #1967D2;\n",
              "      --hover-bg-color: #E2EBFA;\n",
              "      --hover-fill-color: #174EA6;\n",
              "      --disabled-fill-color: #AAA;\n",
              "      --disabled-bg-color: #DDD;\n",
              "  }\n",
              "\n",
              "  [theme=dark] .colab-df-quickchart {\n",
              "      --bg-color: #3B4455;\n",
              "      --fill-color: #D2E3FC;\n",
              "      --hover-bg-color: #434B5C;\n",
              "      --hover-fill-color: #FFFFFF;\n",
              "      --disabled-bg-color: #3B4455;\n",
              "      --disabled-fill-color: #666;\n",
              "  }\n",
              "\n",
              "  .colab-df-quickchart {\n",
              "    background-color: var(--bg-color);\n",
              "    border: none;\n",
              "    border-radius: 50%;\n",
              "    cursor: pointer;\n",
              "    display: none;\n",
              "    fill: var(--fill-color);\n",
              "    height: 32px;\n",
              "    padding: 0;\n",
              "    width: 32px;\n",
              "  }\n",
              "\n",
              "  .colab-df-quickchart:hover {\n",
              "    background-color: var(--hover-bg-color);\n",
              "    box-shadow: 0 1px 2px rgba(60, 64, 67, 0.3), 0 1px 3px 1px rgba(60, 64, 67, 0.15);\n",
              "    fill: var(--button-hover-fill-color);\n",
              "  }\n",
              "\n",
              "  .colab-df-quickchart-complete:disabled,\n",
              "  .colab-df-quickchart-complete:disabled:hover {\n",
              "    background-color: var(--disabled-bg-color);\n",
              "    fill: var(--disabled-fill-color);\n",
              "    box-shadow: none;\n",
              "  }\n",
              "\n",
              "  .colab-df-spinner {\n",
              "    border: 2px solid var(--fill-color);\n",
              "    border-color: transparent;\n",
              "    border-bottom-color: var(--fill-color);\n",
              "    animation:\n",
              "      spin 1s steps(1) infinite;\n",
              "  }\n",
              "\n",
              "  @keyframes spin {\n",
              "    0% {\n",
              "      border-color: transparent;\n",
              "      border-bottom-color: var(--fill-color);\n",
              "      border-left-color: var(--fill-color);\n",
              "    }\n",
              "    20% {\n",
              "      border-color: transparent;\n",
              "      border-left-color: var(--fill-color);\n",
              "      border-top-color: var(--fill-color);\n",
              "    }\n",
              "    30% {\n",
              "      border-color: transparent;\n",
              "      border-left-color: var(--fill-color);\n",
              "      border-top-color: var(--fill-color);\n",
              "      border-right-color: var(--fill-color);\n",
              "    }\n",
              "    40% {\n",
              "      border-color: transparent;\n",
              "      border-right-color: var(--fill-color);\n",
              "      border-top-color: var(--fill-color);\n",
              "    }\n",
              "    60% {\n",
              "      border-color: transparent;\n",
              "      border-right-color: var(--fill-color);\n",
              "    }\n",
              "    80% {\n",
              "      border-color: transparent;\n",
              "      border-right-color: var(--fill-color);\n",
              "      border-bottom-color: var(--fill-color);\n",
              "    }\n",
              "    90% {\n",
              "      border-color: transparent;\n",
              "      border-bottom-color: var(--fill-color);\n",
              "    }\n",
              "  }\n",
              "</style>\n",
              "\n",
              "      <script>\n",
              "        async function quickchart(key) {\n",
              "          const quickchartButtonEl =\n",
              "            document.querySelector('#' + key + ' button');\n",
              "          quickchartButtonEl.disabled = true;  // To prevent multiple clicks.\n",
              "          quickchartButtonEl.classList.add('colab-df-spinner');\n",
              "          try {\n",
              "            const charts = await google.colab.kernel.invokeFunction(\n",
              "                'suggestCharts', [key], {});\n",
              "          } catch (error) {\n",
              "            console.error('Error during call to suggestCharts:', error);\n",
              "          }\n",
              "          quickchartButtonEl.classList.remove('colab-df-spinner');\n",
              "          quickchartButtonEl.classList.add('colab-df-quickchart-complete');\n",
              "        }\n",
              "        (() => {\n",
              "          let quickchartButtonEl =\n",
              "            document.querySelector('#df-3f86e307-6624-4c40-b36f-b9c3c7b5bbdc button');\n",
              "          quickchartButtonEl.style.display =\n",
              "            google.colab.kernel.accessAllowed ? 'block' : 'none';\n",
              "        })();\n",
              "      </script>\n",
              "    </div>\n",
              "\n",
              "    </div>\n",
              "  </div>\n"
            ],
            "application/vnd.google.colaboratory.intrinsic+json": {
              "type": "dataframe",
              "variable_name": "df",
              "summary": "{\n  \"name\": \"df\",\n  \"rows\": 100000,\n  \"fields\": [\n    {\n      \"column\": \"userId\",\n      \"properties\": {\n        \"dtype\": \"number\",\n        \"std\": 266,\n        \"min\": 1,\n        \"max\": 943,\n        \"num_unique_values\": 943,\n        \"samples\": [\n          262,\n          136,\n          821\n        ],\n        \"semantic_type\": \"\",\n        \"description\": \"\"\n      }\n    },\n    {\n      \"column\": \"itemId\",\n      \"properties\": {\n        \"dtype\": \"number\",\n        \"std\": 330,\n        \"min\": 1,\n        \"max\": 1682,\n        \"num_unique_values\": 1682,\n        \"samples\": [\n          1557,\n          808,\n          1618\n        ],\n        \"semantic_type\": \"\",\n        \"description\": \"\"\n      }\n    },\n    {\n      \"column\": \"rating\",\n      \"properties\": {\n        \"dtype\": \"number\",\n        \"std\": 1,\n        \"min\": 1,\n        \"max\": 5,\n        \"num_unique_values\": 5,\n        \"samples\": [\n          1,\n          5,\n          2\n        ],\n        \"semantic_type\": \"\",\n        \"description\": \"\"\n      }\n    },\n    {\n      \"column\": \"timestamp\",\n      \"properties\": {\n        \"dtype\": \"number\",\n        \"std\": 5343856,\n        \"min\": 874724710,\n        \"max\": 893286638,\n        \"num_unique_values\": 49282,\n        \"samples\": [\n          889728713,\n          888443306,\n          880605158\n        ],\n        \"semantic_type\": \"\",\n        \"description\": \"\"\n      }\n    }\n  ]\n}"
            }
          },
          "metadata": {},
          "execution_count": 2
        }
      ],
      "source": [
        "url = \"http://files.grouplens.org/datasets/movielens/ml-100k/u.data\"\n",
        "df = pd.read_csv(url, sep='\\t', names=['userId', 'itemId', 'rating', 'timestamp'])\n",
        "df.head()"
      ]
    },
    {
      "cell_type": "markdown",
      "source": [
        "Carregando os dados dos filmes (para mostrar os nomes depois)"
      ],
      "metadata": {
        "id": "LB9MpgfSDclK"
      }
    },
    {
      "cell_type": "code",
      "source": [
        "movie_url = \"http://files.grouplens.org/datasets/movielens/ml-100k/u.item\"\n",
        "movie_columns = ['itemId', 'title', 'release_date', 'video_release_date', 'IMDb_URL'] + [f'genre_{i}' for i in range(19)]\n",
        "movies_df = pd.read_csv(movie_url, sep='|', names=movie_columns, encoding='latin-1')\n",
        "\n",
        "# Criando o dicionário de ID -> título do filme\n",
        "movie_titles = dict(zip(movies_df['itemId'], movies_df['title']))"
      ],
      "metadata": {
        "id": "fZDkjo-6DfQA"
      },
      "execution_count": null,
      "outputs": []
    },
    {
      "cell_type": "markdown",
      "metadata": {
        "id": "e473a760"
      },
      "source": [
        "## Preparação dos Dados\n",
        "Define o intervalo de notas e carrega os dados no formato da biblioteca `Surprise`."
      ]
    },
    {
      "cell_type": "code",
      "execution_count": null,
      "metadata": {
        "id": "60c16eaf"
      },
      "outputs": [],
      "source": [
        "reader = Reader(rating_scale=(1, 5))\n",
        "data = Dataset.load_from_df(df[['userId', 'itemId', 'rating']], reader)"
      ]
    },
    {
      "cell_type": "markdown",
      "metadata": {
        "id": "a03c48e8"
      },
      "source": [
        "## Divisão dos Dados\n",
        "Dividimos em 80% para treino e 20% para teste."
      ]
    },
    {
      "cell_type": "code",
      "execution_count": null,
      "metadata": {
        "id": "d12c051a"
      },
      "outputs": [],
      "source": [
        "trainset, testset = train_test_split(data, test_size=0.2, random_state=100)"
      ]
    },
    {
      "cell_type": "markdown",
      "source": [
        "### SVD padrão"
      ],
      "metadata": {
        "id": "cujGr7C5CiTS"
      }
    },
    {
      "cell_type": "markdown",
      "metadata": {
        "id": "604480ef"
      },
      "source": [
        "## Treinamento do Modelo\n",
        "Utilizamos o algoritmo **SVD**, que identifica padrões latentes nas avaliações."
      ]
    },
    {
      "cell_type": "markdown",
      "source": [],
      "metadata": {
        "id": "coMttr-A9iFy"
      }
    },
    {
      "cell_type": "code",
      "execution_count": null,
      "metadata": {
        "colab": {
          "base_uri": "https://localhost:8080/"
        },
        "id": "18114828",
        "outputId": "67d24435-c4f9-4802-fa2c-b947ce119a7e"
      },
      "outputs": [
        {
          "output_type": "execute_result",
          "data": {
            "text/plain": [
              "<surprise.prediction_algorithms.matrix_factorization.SVD at 0x7ccc4e628fd0>"
            ]
          },
          "metadata": {},
          "execution_count": 6
        }
      ],
      "source": [
        "model = SVD()\n",
        "model.fit(trainset)"
      ]
    },
    {
      "cell_type": "markdown",
      "source": [
        "## Calcular R²"
      ],
      "metadata": {
        "id": "asMMzRT19j5J"
      }
    },
    {
      "cell_type": "code",
      "source": [],
      "metadata": {
        "id": "ngYUtFAX9qwm"
      },
      "execution_count": null,
      "outputs": []
    },
    {
      "cell_type": "markdown",
      "metadata": {
        "id": "9b2ee782"
      },
      "source": [
        "## Avaliação do Modelo\n",
        "Utilizamos RMSE e MAE como métricas de erro."
      ]
    },
    {
      "cell_type": "code",
      "execution_count": null,
      "metadata": {
        "colab": {
          "base_uri": "https://localhost:8080/"
        },
        "id": "f3585a15",
        "outputId": "c7705a2c-9e7c-4b13-e459-4c077cdae21f"
      },
      "outputs": [
        {
          "output_type": "stream",
          "name": "stdout",
          "text": [
            "Avaliação do Modelo SVD Padrão:\n",
            "RMSE: 0.9338\n",
            "MSE: 0.8719\n"
          ]
        }
      ],
      "source": [
        "predictions = model.test(testset)\n",
        "print(\"Avaliação do Modelo SVD Padrão:\")\n",
        "svd_default_rmse = rmse(predictions)\n",
        "svd_default_mse = mse(predictions)"
      ]
    },
    {
      "cell_type": "markdown",
      "metadata": {
        "id": "b911b282"
      },
      "source": [
        "## Geração de Recomendações\n",
        "Selecionamos um usuário e recomendamos filmes que ele ainda não avaliou, com base nas maiores notas previstas."
      ]
    },
    {
      "cell_type": "code",
      "execution_count": null,
      "metadata": {
        "id": "fc4d3890"
      },
      "outputs": [],
      "source": [
        "user_id = 78\n",
        "user_movies = df[df['userId'] == user_id]['itemId'].unique()\n",
        "all_movie_ids = df['itemId'].unique()\n",
        "movies_not_seen = [movie for movie in all_movie_ids if movie not in user_movies]\n",
        "\n",
        "user_predictions = [model.predict(user_id, movie_id) for movie_id in movies_not_seen]\n",
        "top_10 = sorted(user_predictions, key=lambda x: x.est, reverse=True)[:10]"
      ]
    },
    {
      "cell_type": "markdown",
      "metadata": {
        "id": "3f54f9e2"
      },
      "source": [
        "## Exibir Títulos dos Filmes"
      ]
    },
    {
      "cell_type": "code",
      "execution_count": null,
      "metadata": {
        "colab": {
          "base_uri": "https://localhost:8080/"
        },
        "id": "50e0cac0",
        "outputId": "cd9f3408-4181-4f72-e06f-bd84fc2968a4"
      },
      "outputs": [
        {
          "output_type": "stream",
          "name": "stdout",
          "text": [
            "\n",
            "Top 10 recomendações para o usuário 78:\n",
            "\n",
            "Schindler's List (1993) — Nota prevista: 4.75\n",
            "Shawshank Redemption, The (1994) — Nota prevista: 4.73\n",
            "Casablanca (1942) — Nota prevista: 4.65\n",
            "Princess Bride, The (1987) — Nota prevista: 4.58\n",
            "Star Wars (1977) — Nota prevista: 4.56\n",
            "Silence of the Lambs, The (1991) — Nota prevista: 4.55\n",
            "Close Shave, A (1995) — Nota prevista: 4.51\n",
            "Citizen Kane (1941) — Nota prevista: 4.48\n",
            "Lawrence of Arabia (1962) — Nota prevista: 4.45\n",
            "Boot, Das (1981) — Nota prevista: 4.44\n"
          ]
        }
      ],
      "source": [
        "print(f\"\\nTop 10 recomendações para o usuário {user_id}:\\n\")\n",
        "for pred in top_10:\n",
        "    movie_name = movie_titles.get(int(pred.iid), f\"ID {pred.iid}\")\n",
        "    print(f\"{movie_name} — Nota prevista: {pred.est:.2f}\")\n"
      ]
    },
    {
      "cell_type": "markdown",
      "source": [
        "### Otimização com GridSearchCV no SVD"
      ],
      "metadata": {
        "id": "yX8likK2CwuF"
      }
    },
    {
      "cell_type": "code",
      "source": [
        "\n",
        "param_grid = {\n",
        "    'n_epochs': [500, 1000, 2000],\n",
        "    'lr_all': [0.0001, 0.001, 0.005],\n",
        "    'reg_all': [0.01, 0.1, 0.2]\n",
        "}\n",
        "\n",
        "gs = GridSearchCV(SVD, param_grid, measures=['rmse', 'mse'], cv=3, n_jobs=-1)\n",
        "gs.fit(data)\n",
        "\n",
        "print(\"\\nMelhor RMSE encontrado:\", gs.best_score['rmse'])\n",
        "print(\"Melhores parâmetros para o SVD:\", gs.best_params['rmse'])"
      ],
      "metadata": {
        "colab": {
          "base_uri": "https://localhost:8080/"
        },
        "id": "ApFpxpnZC2nm",
        "outputId": "7a30c418-228d-4022-fe45-0c70b80515b3"
      },
      "execution_count": null,
      "outputs": [
        {
          "output_type": "stream",
          "name": "stdout",
          "text": [
            "\n",
            "Melhor RMSE encontrado: 0.9187450044010239\n",
            "Melhores parâmetros para o SVD: {'n_epochs': 500, 'lr_all': 0.001, 'reg_all': 0.1}\n"
          ]
        }
      ]
    },
    {
      "cell_type": "markdown",
      "source": [
        "# Treinamento do Modelo SVD com melhores hiperparâmetros"
      ],
      "metadata": {
        "id": "JR7Z348QD_n-"
      }
    },
    {
      "cell_type": "code",
      "source": [
        "best_svd = SVD(**gs.best_params['rmse'])\n",
        "best_svd.fit(trainset)"
      ],
      "metadata": {
        "colab": {
          "base_uri": "https://localhost:8080/"
        },
        "id": "_pIQ7C4XECeO",
        "outputId": "70418f38-5fdd-4dce-a0b5-9ea108722219"
      },
      "execution_count": null,
      "outputs": [
        {
          "output_type": "execute_result",
          "data": {
            "text/plain": [
              "<surprise.prediction_algorithms.matrix_factorization.SVD at 0x7ccc4c76afd0>"
            ]
          },
          "metadata": {},
          "execution_count": 11
        }
      ]
    },
    {
      "cell_type": "markdown",
      "source": [
        "# Avaliação do SVD otimizado"
      ],
      "metadata": {
        "id": "N1tRtxdLEFV7"
      }
    },
    {
      "cell_type": "code",
      "source": [
        "best_predictions = best_svd.test(testset)\n",
        "\n",
        "print(\"\\nAvaliação do Melhor Modelo SVD (GridSearch):\")\n",
        "svd_grid_rmse = rmse(best_predictions)\n",
        "svd_grid_mse = mse(best_predictions)"
      ],
      "metadata": {
        "colab": {
          "base_uri": "https://localhost:8080/"
        },
        "id": "3qu1tO5JEIwo",
        "outputId": "b96cb3bf-d99d-4b51-ad12-c63e8c649880"
      },
      "execution_count": null,
      "outputs": [
        {
          "output_type": "stream",
          "name": "stdout",
          "text": [
            "\n",
            "Avaliação do Melhor Modelo SVD (GridSearch):\n",
            "RMSE: 0.9075\n",
            "MSE: 0.8235\n"
          ]
        }
      ]
    },
    {
      "cell_type": "markdown",
      "source": [
        "## Utilização do NFM (Fatoração de matriz não linear )"
      ],
      "metadata": {
        "id": "61cqAyQpsQgE"
      }
    },
    {
      "cell_type": "code",
      "source": [
        "nmf_model = NMF()\n",
        "nmf_model.fit(trainset)\n",
        "nmf_predictions = nmf_model.test(testset)\n",
        "\n",
        "print(\"\\nAvaliação do Modelo NMF:\")\n",
        "nmf_rmse = rmse(nmf_predictions)\n",
        "nmf_mse = mse(nmf_predictions)"
      ],
      "metadata": {
        "colab": {
          "base_uri": "https://localhost:8080/"
        },
        "id": "zUmKhQdmsaG6",
        "outputId": "8eec7c56-2f5e-4f45-de4c-3bac89fa45e7"
      },
      "execution_count": null,
      "outputs": [
        {
          "output_type": "stream",
          "name": "stdout",
          "text": [
            "\n",
            "Avaliação do Modelo NMF:\n",
            "RMSE: 0.9560\n",
            "MSE: 0.9140\n"
          ]
        }
      ]
    },
    {
      "cell_type": "code",
      "source": [
        "user_predictions_nmf = [nmf_model.predict(user_id, movie_id) for movie_id in movies_not_seen]\n",
        "top_10_nmf = sorted(user_predictions_nmf, key=lambda x: x.est, reverse=True)[:10]\n",
        "\n",
        "print(f\"\\nTop 10 recomendações para o usuário {user_id} com NMF:\\n\")\n",
        "for pred in top_10_nmf:\n",
        "    movie_name = movie_titles.get(int(pred.iid), f\"ID {pred.iid}\")\n",
        "    print(f\"{movie_name} — Nota prevista: {pred.est:.2f}\")\n"
      ],
      "metadata": {
        "colab": {
          "base_uri": "https://localhost:8080/"
        },
        "id": "5Ps-rEC7seQw",
        "outputId": "6d6aefd6-2b71-4e6b-c92a-f741c89c7d4f"
      },
      "execution_count": null,
      "outputs": [
        {
          "output_type": "stream",
          "name": "stdout",
          "text": [
            "\n",
            "Top 10 recomendações para o usuário 78 com NMF:\n",
            "\n",
            "Dr. Strangelove or: How I Learned to Stop Worrying and Love the Bomb (1963) — Nota prevista: 5.00\n",
            "City of Lost Children, The (1995) — Nota prevista: 5.00\n",
            "Wings of Desire (1987) — Nota prevista: 5.00\n",
            "12 Angry Men (1957) — Nota prevista: 5.00\n",
            "Godfather, The (1972) — Nota prevista: 5.00\n",
            "Graduate, The (1967) — Nota prevista: 5.00\n",
            "Godfather: Part II, The (1974) — Nota prevista: 5.00\n",
            "Priest (1994) — Nota prevista: 5.00\n",
            "Some Folks Call It a Sling Blade (1993) — Nota prevista: 5.00\n",
            "Great Dictator, The (1940) — Nota prevista: 5.00\n"
          ]
        }
      ]
    },
    {
      "cell_type": "code",
      "source": [
        "param_grid_nmf = {\n",
        "    'n_factors': [ 50,100, 150],\n",
        "    'n_epochs': [500, 1000, 2000],\n",
        "    'reg_pu': [ 0.1, 0.15, 0.2],\n",
        "    'reg_qi': [0.06, 0.1, 0.15]\n",
        "}\n",
        "\n",
        "gs_nmf = GridSearchCV(NMF, param_grid_nmf, measures=['rmse', 'mse'], cv=3, n_jobs=-1)\n",
        "gs_nmf.fit(data)\n",
        "\n",
        "print(\"\\nMelhor RMSE encontrado para NMF:\", gs_nmf.best_score['rmse'])\n",
        "print(\"Melhores parâmetros para o NMF:\", gs_nmf.best_params['rmse'])\n",
        "\n",
        "best_nmf = NMF(**gs_nmf.best_params['rmse'])\n",
        "best_nmf.fit(trainset)\n",
        "best_nmf_predictions = best_nmf.test(testset)\n",
        "\n",
        "nmf_grid_rmse = rmse(best_nmf_predictions)\n",
        "nmf_grid_mse = mse(best_nmf_predictions)"
      ],
      "metadata": {
        "id": "qnuheBNtkaOz",
        "colab": {
          "base_uri": "https://localhost:8080/"
        },
        "outputId": "3aa80813-3365-4dee-c0f6-6a8609b16e40"
      },
      "execution_count": 16,
      "outputs": [
        {
          "output_type": "stream",
          "name": "stdout",
          "text": [
            "\n",
            "Melhor RMSE encontrado para NMF: 0.9248215634950766\n",
            "Melhores parâmetros para o NMF: {'n_factors': 150, 'n_epochs': 500, 'reg_pu': 0.2, 'reg_qi': 0.06}\n",
            "RMSE: 0.9111\n",
            "MSE: 0.8301\n"
          ]
        }
      ]
    },
    {
      "cell_type": "markdown",
      "source": [
        "### Comparação dos modelos em Gráfico"
      ],
      "metadata": {
        "id": "mVhvxq7LEcRn"
      }
    },
    {
      "cell_type": "code",
      "source": [
        "models = ['SVD (Default)', 'SVD (GridSearch)', 'NMF (Default)', 'NMF (GridSearch)']\n",
        "rmse_values = [svd_default_rmse, svd_grid_rmse, nmf_rmse, nmf_grid_rmse]\n",
        "mse_values = [svd_default_mse, svd_grid_mse, nmf_mse, nmf_grid_mse]\n",
        "\n",
        "\n",
        "x = np.arange(len(models))\n",
        "width = 0.35\n",
        "\n",
        "fig, ax = plt.subplots(figsize=(12, 6))\n",
        "\n",
        "rects1 = ax.bar(x - width/2, rmse_values, width, label='RMSE', color='cornflowerblue')\n",
        "rects2 = ax.bar(x + width/2, mse_values, width, label='MSE', color='tomato')\n",
        "\n",
        "ax.set_ylabel('Erro')\n",
        "ax.set_title('Comparação de Erros: Modelos Default vs Otimizados (SVD e NMF)')\n",
        "ax.set_xticks(x)\n",
        "ax.set_xticklabels(models, rotation=10)\n",
        "ax.legend()\n",
        "\n",
        "# Mostrar valores nas colunas\n",
        "for i, rect in enumerate(rects1):\n",
        "    ax.text(rect.get_x() + rect.get_width()/2., rect.get_height() + 0.01,\n",
        "            f'{rmse_values[i]:.2f}', ha='center', va='bottom', fontsize=9)\n",
        "\n",
        "for i, rect in enumerate(rects2):\n",
        "    ax.text(rect.get_x() + rect.get_width()/2., rect.get_height() + 0.01,\n",
        "            f'{mse_values[i]:.2f}', ha='center', va='bottom', fontsize=9)\n",
        "\n",
        "plt.tight_layout()\n",
        "plt.show()\n"
      ],
      "metadata": {
        "colab": {
          "base_uri": "https://localhost:8080/",
          "height": 607
        },
        "id": "d0Jxe35XEd2J",
        "outputId": "632671d7-6672-4a59-8c48-d26b8edf998f"
      },
      "execution_count": 17,
      "outputs": [
        {
          "output_type": "display_data",
          "data": {
            "text/plain": [
              "<Figure size 1200x600 with 1 Axes>"
            ],
            "image/png": "[encoded data removed]"
          },
          "metadata": {}
        }
      ]
    },
    {
      "cell_type": "markdown",
      "source": [],
      "metadata": {
        "id": "zvcp29WmD4yN"
      }
    }
  ],
  "metadata": {
    "colab": {
      "provenance": [],
      "include_colab_link": true
    },
    "kernelspec": {
      "display_name": "Python 3",
      "name": "python3"
    },
    "language_info": {
      "name": "python"
    }
  },
  "nbformat": 4,
  "nbformat_minor": 0
}